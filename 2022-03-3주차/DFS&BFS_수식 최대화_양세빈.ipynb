{
 "cells": [
  {
   "cell_type": "code",
   "execution_count": 106,
   "id": "e49741aa",
   "metadata": {},
   "outputs": [],
   "source": [
    "expression = \"50*6-3*2\""
   ]
  },
  {
   "cell_type": "code",
   "execution_count": 111,
   "id": "1052866c",
   "metadata": {},
   "outputs": [],
   "source": [
    "expression = \"100-200*300-500+20\""
   ]
  },
  {
   "cell_type": "code",
   "execution_count": 172,
   "id": "4bb85a42",
   "metadata": {},
   "outputs": [],
   "source": [
    "from itertools import permutations"
   ]
  },
  {
   "cell_type": "code",
   "execution_count": 170,
   "id": "13e024f9",
   "metadata": {},
   "outputs": [],
   "source": [
    "fun=[]\n",
    "list_ex=[]\n",
    "num=\"\"\n",
    "for i in expression:\n",
    "    if i in [\"-\",\"+\",\"*\"]:\n",
    "        fun.append(i)\n",
    "        list_ex.append(num)\n",
    "        num=\"\"\n",
    "    else:\n",
    "        num+=i\n",
    "list_ex.append(num)        "
   ]
  },
  {
   "cell_type": "code",
   "execution_count": 171,
   "id": "d66aaddd",
   "metadata": {},
   "outputs": [],
   "source": [
    "max_val = -1e9\n",
    "\n",
    "for per in list(permutations([\"-\",\"+\",\"*\"],3)):\n",
    "    li=list_ex[:]\n",
    "    fun_li = fun[:]\n",
    "    for i in per:\n",
    "        n=0\n",
    "        del_li=[]\n",
    "        for f in range(len(fun_li)):\n",
    "            if i==fun_li[f]:\n",
    "                li[f-n+1]= str(eval(li[f-n] + fun_li[f] + li[f-n+1]))\n",
    "                del li[f-n]\n",
    "                del_li.append(f)\n",
    "                n+=1\n",
    "        \n",
    "        for f in del_li[::-1]:\n",
    "            del fun_li[f]\n",
    "    max_val = max(max_val,abs(int(li[0])))"
   ]
  },
  {
   "cell_type": "code",
   "execution_count": 169,
   "id": "0f9b3448",
   "metadata": {},
   "outputs": [
    {
     "data": {
      "text/plain": [
       "60420"
      ]
     },
     "execution_count": 169,
     "metadata": {},
     "output_type": "execute_result"
    }
   ],
   "source": [
    "max_val"
   ]
  },
  {
   "cell_type": "code",
   "execution_count": null,
   "id": "440f1568",
   "metadata": {},
   "outputs": [],
   "source": []
  },
  {
   "cell_type": "code",
   "execution_count": null,
   "id": "e6e486df",
   "metadata": {},
   "outputs": [],
   "source": []
  }
 ],
 "metadata": {
  "kernelspec": {
   "display_name": "Python 3",
   "language": "python",
   "name": "python3"
  },
  "language_info": {
   "codemirror_mode": {
    "name": "ipython",
    "version": 3
   },
   "file_extension": ".py",
   "mimetype": "text/x-python",
   "name": "python",
   "nbconvert_exporter": "python",
   "pygments_lexer": "ipython3",
   "version": "3.8.8"
  }
 },
 "nbformat": 4,
 "nbformat_minor": 5
}
