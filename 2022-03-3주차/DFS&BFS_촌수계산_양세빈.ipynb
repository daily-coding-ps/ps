{
 "cells": [
  {
   "cell_type": "code",
   "execution_count": 99,
   "id": "7c493f73",
   "metadata": {},
   "outputs": [
    {
     "name": "stdout",
     "output_type": "stream",
     "text": [
      "9\n",
      "7 3\n",
      "7\n",
      "1 2\n",
      "1 3\n",
      "2 7\n",
      "2 8\n",
      "2 9\n",
      "4 5\n",
      "4 6\n"
     ]
    }
   ],
   "source": [
    "n=int(input())\n",
    "n1,n2 = map(int,input().split())\n",
    "\n",
    "m=int(input())\n",
    "\n",
    "graph= [[0]*(n+1) for _ in range(n+1)]\n",
    "\n",
    "for _ in range(m):\n",
    "    p,c = map(int,input().split())\n",
    "    graph[p][c]=1\n",
    "    graph[c][p]=1\n",
    "    "
   ]
  },
  {
   "cell_type": "code",
   "execution_count": 100,
   "id": "8a044bc2",
   "metadata": {},
   "outputs": [],
   "source": [
    "def bfs(v,num):\n",
    "    global c\n",
    "    \n",
    "    if v==n2:\n",
    "        c = min(c,num)\n",
    "        return\n",
    "    \n",
    "    for i in range(1,n+1):\n",
    "        if graph[v][i]==1:\n",
    "            graph[v][i]=0\n",
    "            graph[i][v]=0\n",
    "            bfs(i,num+1)\n",
    "            graph[v][i]=1\n",
    "            graph[i][v]=0\n",
    "            "
   ]
  },
  {
   "cell_type": "code",
   "execution_count": 101,
   "id": "9ab07329",
   "metadata": {},
   "outputs": [],
   "source": [
    "c=1e9\n",
    "bfs(n1,0)"
   ]
  }
 ],
 "metadata": {
  "kernelspec": {
   "display_name": "Python 3",
   "language": "python",
   "name": "python3"
  },
  "language_info": {
   "codemirror_mode": {
    "name": "ipython",
    "version": 3
   },
   "file_extension": ".py",
   "mimetype": "text/x-python",
   "name": "python",
   "nbconvert_exporter": "python",
   "pygments_lexer": "ipython3",
   "version": "3.8.8"
  }
 },
 "nbformat": 4,
 "nbformat_minor": 5
}
