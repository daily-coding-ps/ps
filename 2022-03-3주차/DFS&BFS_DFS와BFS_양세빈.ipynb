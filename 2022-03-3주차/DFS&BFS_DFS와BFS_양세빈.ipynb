{
 "cells": [
  {
   "cell_type": "code",
   "execution_count": 30,
   "id": "a25e47c0",
   "metadata": {},
   "outputs": [
    {
     "name": "stdout",
     "output_type": "stream",
     "text": [
      "1000 1 1000\n",
      "999 1000\n"
     ]
    }
   ],
   "source": [
    "from collections import deque\n",
    "\n",
    "n,m,v = map(int, input().split())\n",
    "visit = [0]*(n+1)\n",
    "\n",
    "graph = {}\n",
    "\n",
    "for _ in range(m):\n",
    "    a,b= map(int, input().split())\n",
    "    if a in graph:\n",
    "        graph[a].append(b)\n",
    "    else:\n",
    "        graph[a]=[b]\n",
    "    if b in graph:\n",
    "        graph[b].append(a)\n",
    "    else:\n",
    "        graph[b]=[a]\n",
    "\n",
    "for i in graph:\n",
    "    graph[i]=sorted(graph[i])"
   ]
  },
  {
   "cell_type": "code",
   "execution_count": 39,
   "id": "6d751c0f",
   "metadata": {},
   "outputs": [],
   "source": [
    "def dfs(v):\n",
    "    for i in graph[v]:\n",
    "        if visit[i]==0:\n",
    "            dfs_answer.append(i)\n",
    "            visit[i]=1\n",
    "            dfs(i)"
   ]
  },
  {
   "cell_type": "code",
   "execution_count": 40,
   "id": "ef42219f",
   "metadata": {},
   "outputs": [],
   "source": [
    "def bfs():\n",
    "    while q:\n",
    "        s = q.popleft()\n",
    "        for i in graph[s]:\n",
    "            if visit[i]==0:\n",
    "                bfs_answer.append(i)\n",
    "                visit[i]=1\n",
    "                q.append(i)"
   ]
  },
  {
   "cell_type": "code",
   "execution_count": 41,
   "id": "95a2ec7e",
   "metadata": {},
   "outputs": [
    {
     "name": "stdout",
     "output_type": "stream",
     "text": [
      "1000 999\n",
      "1000 999\n"
     ]
    }
   ],
   "source": [
    "dfs_answer=[]\n",
    "dfs_answer.append(v)\n",
    "\n",
    "q = deque()\n",
    "bfs_answer=[v]\n",
    "q.append(v)\n",
    "\n",
    "if v in graph:\n",
    "    visit = [0]*(n+1)\n",
    "    visit[v]=1\n",
    "    dfs(v)\n",
    "    visit = [0]*(n+1)\n",
    "    visit[v]=1\n",
    "    bfs()\n",
    "print(*dfs_answer)\n",
    "print(*bfs_answer)\n"
   ]
  },
  {
   "cell_type": "code",
   "execution_count": null,
   "id": "295734eb",
   "metadata": {},
   "outputs": [],
   "source": []
  }
 ],
 "metadata": {
  "kernelspec": {
   "display_name": "Python 3",
   "language": "python",
   "name": "python3"
  },
  "language_info": {
   "codemirror_mode": {
    "name": "ipython",
    "version": 3
   },
   "file_extension": ".py",
   "mimetype": "text/x-python",
   "name": "python",
   "nbconvert_exporter": "python",
   "pygments_lexer": "ipython3",
   "version": "3.8.8"
  }
 },
 "nbformat": 4,
 "nbformat_minor": 5
}
