{
 "cells": [
  {
   "cell_type": "code",
   "execution_count": 61,
   "id": "8beb848a",
   "metadata": {},
   "outputs": [],
   "source": [
    "board=[[0, 0, 1, 0], [0, 0, 0, 0], [0, 1, 0, 1], [1, 0, 0, 0]]"
   ]
  },
  {
   "cell_type": "code",
   "execution_count": 62,
   "id": "474fd37b",
   "metadata": {},
   "outputs": [],
   "source": [
    "dx=[0,1,0,-1] #상우하좌\n",
    "dy=[-1,0,1,0]\n",
    "\n",
    "def dfs(x,y,di,val):   \n",
    "    for i in range(4):\n",
    "        if i == di:\n",
    "            now_val = val+100\n",
    "        else:\n",
    "            now_val = val+600\n",
    "\n",
    "        nx = dx[i]+x\n",
    "        ny = dy[i]+y\n",
    "        \n",
    "        if 0<=nx<len(board) and 0<=ny<len(board):\n",
    "            \n",
    "            if now_val <= board[ny][nx] or board[ny][nx]==0:\n",
    "                board[ny][nx] = now_val\n",
    "                dfs(nx,ny,i,now_val)"
   ]
  },
  {
   "cell_type": "code",
   "execution_count": 63,
   "id": "a1f9c9d7",
   "metadata": {},
   "outputs": [],
   "source": [
    "dfs(0,0,1,0)\n",
    "dfs(0,0,2,0)"
   ]
  },
  {
   "cell_type": "code",
   "execution_count": null,
   "id": "264c9114",
   "metadata": {},
   "outputs": [],
   "source": []
  },
  {
   "cell_type": "code",
   "execution_count": null,
   "id": "833fc569",
   "metadata": {},
   "outputs": [],
   "source": []
  },
  {
   "cell_type": "code",
   "execution_count": null,
   "id": "5d79e434",
   "metadata": {},
   "outputs": [],
   "source": []
  },
  {
   "cell_type": "code",
   "execution_count": null,
   "id": "3b59c12e",
   "metadata": {},
   "outputs": [],
   "source": [
    "def solution(board):\n",
    "    dx=[0,1,0,-1]\n",
    "    dy=[-1,0,1,0]\n",
    "\n",
    "    def dfs(x,y,di,val):   \n",
    "        for i in range(4):\n",
    "            if i == di:\n",
    "                now_val = val+100\n",
    "            else:\n",
    "                now_val = val+600\n",
    "\n",
    "            nx = dx[i]+x\n",
    "            ny = dy[i]+y\n",
    "\n",
    "            if 0<=nx<len(board) and 0<=ny<len(board):\n",
    "\n",
    "                if now_val <= board[ny][nx] or board[ny][nx]==0:\n",
    "                    board[ny][nx] = now_val\n",
    "                    dfs(nx,ny,i,now_val)\n",
    "\n",
    "    dfs(0,0,1,0)\n",
    "    dfs(0,0,2,0)\n",
    "    return board[len(board)-1][len(board)-1]"
   ]
  },
  {
   "cell_type": "code",
   "execution_count": null,
   "id": "cc7d0fc2",
   "metadata": {},
   "outputs": [],
   "source": []
  }
 ],
 "metadata": {
  "kernelspec": {
   "display_name": "Python 3",
   "language": "python",
   "name": "python3"
  },
  "language_info": {
   "codemirror_mode": {
    "name": "ipython",
    "version": 3
   },
   "file_extension": ".py",
   "mimetype": "text/x-python",
   "name": "python",
   "nbconvert_exporter": "python",
   "pygments_lexer": "ipython3",
   "version": "3.8.8"
  }
 },
 "nbformat": 4,
 "nbformat_minor": 5
}
