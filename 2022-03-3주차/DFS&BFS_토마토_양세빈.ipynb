{
 "cells": [
  {
   "cell_type": "code",
   "execution_count": null,
   "id": "8650e9ba",
   "metadata": {},
   "outputs": [],
   "source": [
    "6 4\n",
    "0 -1 0 0 0 0\n",
    "-1 0 0 0 0 0\n",
    "0 0 0 0 0 0\n",
    "0 0 0 0 0 1"
   ]
  },
  {
   "cell_type": "code",
   "execution_count": 10,
   "id": "69354a36",
   "metadata": {},
   "outputs": [
    {
     "name": "stdout",
     "output_type": "stream",
     "text": [
      "6 4\n"
     ]
    }
   ],
   "source": [
    "a,b = map(int,input().split())"
   ]
  },
  {
   "cell_type": "code",
   "execution_count": 11,
   "id": "f408cf27",
   "metadata": {},
   "outputs": [
    {
     "name": "stdout",
     "output_type": "stream",
     "text": [
      "0 -1 0 0 0 0\n",
      "-1 0 0 0 0 0\n",
      "0 0 0 0 0 0\n",
      "0 0 0 0 0 1\n"
     ]
    }
   ],
   "source": [
    "li=[]\n",
    "for _ in range(b):\n",
    "    li.append(list(map(int,input().split())))"
   ]
  },
  {
   "cell_type": "code",
   "execution_count": 12,
   "id": "079ad792",
   "metadata": {},
   "outputs": [],
   "source": [
    "dx=[0,0,-1,1]\n",
    "dy=[-1,1,0,0]"
   ]
  },
  {
   "cell_type": "code",
   "execution_count": 13,
   "id": "e45c37c2",
   "metadata": {
    "scrolled": true
   },
   "outputs": [
    {
     "data": {
      "text/plain": [
       "[[0, -1, 0, 0, 0, 0],\n",
       " [-1, 0, 0, 0, 0, 0],\n",
       " [0, 0, 0, 0, 0, 0],\n",
       " [0, 0, 0, 0, 0, 1]]"
      ]
     },
     "execution_count": 13,
     "metadata": {},
     "output_type": "execute_result"
    }
   ],
   "source": [
    "li"
   ]
  },
  {
   "cell_type": "code",
   "execution_count": 14,
   "id": "6491767a",
   "metadata": {},
   "outputs": [],
   "source": [
    "from collections import deque\n",
    "\n",
    "q = deque()\n",
    "\n",
    "for i in range(a):\n",
    "    for j in range(b):\n",
    "        if li[j][i]==1:\n",
    "            q.append([i,j,0])\n",
    "\n",
    "\n",
    "while q:\n",
    "    v = q.popleft()\n",
    "    for i in range(4):\n",
    "        nx=dx[i]+v[0]\n",
    "        ny=dy[i]+v[1]\n",
    "        if 0<=nx<a and 0<=ny<b:\n",
    "            if li[ny][nx]==0:\n",
    "                li[ny][nx]=1\n",
    "                q.append([nx,ny,v[2]+1])"
   ]
  },
  {
   "cell_type": "code",
   "execution_count": 16,
   "id": "2e774cc8",
   "metadata": {},
   "outputs": [
    {
     "name": "stdout",
     "output_type": "stream",
     "text": [
      "-1\n"
     ]
    }
   ],
   "source": [
    "def check():\n",
    "    for i in range(a):\n",
    "        for j in range(b):\n",
    "            if li[j][i]==0:\n",
    "                return print(-1)\n",
    "    return print(v[2])\n",
    "\n",
    "check()"
   ]
  },
  {
   "cell_type": "code",
   "execution_count": 9,
   "id": "c5878bb0",
   "metadata": {},
   "outputs": [
    {
     "data": {
      "text/plain": [
       "[1, 1, 1, 1, 1, 1]"
      ]
     },
     "execution_count": 9,
     "metadata": {},
     "output_type": "execute_result"
    }
   ],
   "source": [
    "li"
   ]
  },
  {
   "cell_type": "code",
   "execution_count": null,
   "id": "cd08d07b",
   "metadata": {},
   "outputs": [],
   "source": []
  }
 ],
 "metadata": {
  "kernelspec": {
   "display_name": "Python 3",
   "language": "python",
   "name": "python3"
  },
  "language_info": {
   "codemirror_mode": {
    "name": "ipython",
    "version": 3
   },
   "file_extension": ".py",
   "mimetype": "text/x-python",
   "name": "python",
   "nbconvert_exporter": "python",
   "pygments_lexer": "ipython3",
   "version": "3.8.8"
  }
 },
 "nbformat": 4,
 "nbformat_minor": 5
}
