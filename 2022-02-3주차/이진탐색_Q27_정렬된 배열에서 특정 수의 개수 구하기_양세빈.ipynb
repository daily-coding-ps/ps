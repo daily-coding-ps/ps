{
 "cells": [
  {
   "cell_type": "code",
   "execution_count": 1,
   "id": "f5ce4a08",
   "metadata": {
    "scrolled": true
   },
   "outputs": [
    {
     "name": "stdout",
     "output_type": "stream",
     "text": [
      "7 2\n"
     ]
    }
   ],
   "source": [
    "n, num = map(int,input().split())"
   ]
  },
  {
   "cell_type": "code",
   "execution_count": 2,
   "id": "e9f6dafa",
   "metadata": {
    "scrolled": false
   },
   "outputs": [
    {
     "name": "stdout",
     "output_type": "stream",
     "text": [
      "1 1 2 2 2 2 3\n"
     ]
    }
   ],
   "source": [
    "li = list(map(int,input().split()))"
   ]
  },
  {
   "cell_type": "code",
   "execution_count": 19,
   "id": "c709e9e1",
   "metadata": {},
   "outputs": [],
   "source": [
    "def count_val(m):\n",
    "    global count\n",
    "    \n",
    "    for i in range(m,-1,-1):\n",
    "        if li[i]==num:\n",
    "            count+=1\n",
    "        else:\n",
    "            r=False\n",
    "            break\n",
    "    for i in range(m+1,n-1):\n",
    "        if li[i]==num:\n",
    "            count+=1\n",
    "        else:\n",
    "            l=False\n",
    "            break"
   ]
  },
  {
   "cell_type": "code",
   "execution_count": 20,
   "id": "89eb2d6d",
   "metadata": {},
   "outputs": [],
   "source": [
    "def tree(m,s,e):\n",
    "    m = (s+e)//2\n",
    "    \n",
    "    if num < li[m]:\n",
    "        tree(m,s,m-1)\n",
    "    elif num > li[m]:\n",
    "        tree(m,m+1,e)\n",
    "    elif num==li[m]:\n",
    "        count_val(m)\n",
    "        return"
   ]
  },
  {
   "cell_type": "code",
   "execution_count": 21,
   "id": "daea80f7",
   "metadata": {
    "scrolled": true
   },
   "outputs": [],
   "source": [
    "count = 0\n",
    "tree(0,0,n-1)"
   ]
  },
  {
   "cell_type": "code",
   "execution_count": 22,
   "id": "3cb6dfaf",
   "metadata": {},
   "outputs": [
    {
     "name": "stdout",
     "output_type": "stream",
     "text": [
      "4\n"
     ]
    }
   ],
   "source": [
    "if count==0:\n",
    "    print(-1)\n",
    "else:\n",
    "    print(count)"
   ]
  }
 ],
 "metadata": {
  "kernelspec": {
   "display_name": "Python 3",
   "language": "python",
   "name": "python3"
  },
  "language_info": {
   "codemirror_mode": {
    "name": "ipython",
    "version": 3
   },
   "file_extension": ".py",
   "mimetype": "text/x-python",
   "name": "python",
   "nbconvert_exporter": "python",
   "pygments_lexer": "ipython3",
   "version": "3.8.8"
  }
 },
 "nbformat": 4,
 "nbformat_minor": 5
}
