{
 "cells": [
  {
   "cell_type": "code",
   "execution_count": 23,
   "id": "f5ce4a08",
   "metadata": {
    "scrolled": true
   },
   "outputs": [
    {
     "name": "stdout",
     "output_type": "stream",
     "text": [
      "7 4\n"
     ]
    }
   ],
   "source": [
    "n, num = map(int,input().split())"
   ]
  },
  {
   "cell_type": "code",
   "execution_count": 24,
   "id": "e9f6dafa",
   "metadata": {
    "scrolled": false
   },
   "outputs": [
    {
     "name": "stdout",
     "output_type": "stream",
     "text": [
      "1 1 2 2 2 2 3\n"
     ]
    }
   ],
   "source": [
    "li = list(map(int,input().split()))"
   ]
  },
  {
   "cell_type": "code",
   "execution_count": 28,
   "id": "c709e9e1",
   "metadata": {},
   "outputs": [],
   "source": [
    "def count_val(m):\n",
    "    global count\n",
    "    \n",
    "    for i in range(m,-1,-1):\n",
    "        if li[i]==num:\n",
    "            count+=1\n",
    "        else:\n",
    "            r=False\n",
    "            break\n",
    "    for i in range(m+1,n-1):\n",
    "        if li[i]==num:\n",
    "            count+=1\n",
    "        else:\n",
    "            l=False\n",
    "            break"
   ]
  },
  {
   "cell_type": "code",
   "execution_count": 29,
   "id": "89eb2d6d",
   "metadata": {},
   "outputs": [],
   "source": [
    "def tree(m,s,e):\n",
    "    if m >= n-1 or m==0:\n",
    "        return\n",
    "    \n",
    "    m = (s+e)//2\n",
    "    \n",
    "    if num < li[m]:\n",
    "        tree(m,s,m-1)\n",
    "    elif num > li[m]:\n",
    "        tree(m,m+1,e)\n",
    "    elif num==li[m]:\n",
    "        count_val(m)\n",
    "        return"
   ]
  },
  {
   "cell_type": "code",
   "execution_count": 30,
   "id": "daea80f7",
   "metadata": {
    "scrolled": true
   },
   "outputs": [],
   "source": [
    "count = 0\n",
    "tree(0,0,n-1)"
   ]
  },
  {
   "cell_type": "code",
   "execution_count": 31,
   "id": "3cb6dfaf",
   "metadata": {},
   "outputs": [
    {
     "name": "stdout",
     "output_type": "stream",
     "text": [
      "-1\n"
     ]
    }
   ],
   "source": [
    "if count==0:\n",
    "    print(-1)\n",
    "else:\n",
    "    print(count)"
   ]
  },
  {
   "cell_type": "code",
   "execution_count": null,
   "id": "d676e3ee",
   "metadata": {},
   "outputs": [],
   "source": []
  }
 ],
 "metadata": {
  "kernelspec": {
   "display_name": "Python 3",
   "language": "python",
   "name": "python3"
  },
  "language_info": {
   "codemirror_mode": {
    "name": "ipython",
    "version": 3
   },
   "file_extension": ".py",
   "mimetype": "text/x-python",
   "name": "python",
   "nbconvert_exporter": "python",
   "pygments_lexer": "ipython3",
   "version": "3.8.8"
  }
 },
 "nbformat": 4,
 "nbformat_minor": 5
}
