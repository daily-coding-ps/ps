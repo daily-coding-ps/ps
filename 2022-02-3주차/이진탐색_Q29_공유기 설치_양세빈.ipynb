{
 "cells": [
  {
   "cell_type": "code",
   "execution_count": null,
   "id": "cf5f9c2f",
   "metadata": {},
   "outputs": [],
   "source": [
    "import sys\n",
    "input = sys.stdin.readline"
   ]
  },
  {
   "cell_type": "code",
   "execution_count": 128,
   "id": "770b2aac",
   "metadata": {
    "scrolled": false
   },
   "outputs": [
    {
     "name": "stdout",
     "output_type": "stream",
     "text": [
      "10 5\n"
     ]
    }
   ],
   "source": [
    "n,c = map(int,input().split())"
   ]
  },
  {
   "cell_type": "code",
   "execution_count": 129,
   "id": "9bb1cd89",
   "metadata": {},
   "outputs": [
    {
     "name": "stdout",
     "output_type": "stream",
     "text": [
      "2\n",
      "9\n",
      "4\n",
      "6\n",
      "7\n",
      "8\n",
      "34\n",
      "2\n",
      "74\n",
      "20\n"
     ]
    }
   ],
   "source": [
    "li = []\n",
    "for _ in range(n):\n",
    "    li.append(int(input()))\n",
    "li.sort()"
   ]
  },
  {
   "cell_type": "code",
   "execution_count": 139,
   "id": "29cc03e9",
   "metadata": {},
   "outputs": [],
   "source": [
    "def check(wifi_len):\n",
    "    count,loc=0,0\n",
    "    for i in range(1,n):\n",
    "        if li[i]-li[loc] >= wifi_len:\n",
    "            loc = i\n",
    "            count+=1\n",
    "        if count==c-1:\n",
    "            return True\n",
    "    return False"
   ]
  },
  {
   "cell_type": "code",
   "execution_count": 140,
   "id": "e9ec9e27",
   "metadata": {},
   "outputs": [],
   "source": [
    "def tree(m,s,e):\n",
    "    global answer\n",
    "    if m==1 or m==max_len or m == (s+e)//2:\n",
    "        return\n",
    "    m = (s+e)//2\n",
    "    \n",
    "    if check(m):\n",
    "        answer = m\n",
    "        tree(m,m+1,e)\n",
    "    else:\n",
    "        tree(m,s,m-1)"
   ]
  },
  {
   "cell_type": "code",
   "execution_count": 141,
   "id": "5b75afd5",
   "metadata": {},
   "outputs": [],
   "source": [
    "max_len = (li[n-1]-li[0])//(c-1)\n",
    "aswer = 0\n",
    "tree(0,1,max_len)"
   ]
  },
  {
   "cell_type": "code",
   "execution_count": 142,
   "id": "c8ca18f2",
   "metadata": {},
   "outputs": [
    {
     "name": "stdout",
     "output_type": "stream",
     "text": [
      "7\n"
     ]
    }
   ],
   "source": [
    "print(answer)"
   ]
  },
  {
   "cell_type": "code",
   "execution_count": null,
   "id": "33e18398",
   "metadata": {},
   "outputs": [],
   "source": []
  }
 ],
 "metadata": {
  "kernelspec": {
   "display_name": "Python 3",
   "language": "python",
   "name": "python3"
  },
  "language_info": {
   "codemirror_mode": {
    "name": "ipython",
    "version": 3
   },
   "file_extension": ".py",
   "mimetype": "text/x-python",
   "name": "python",
   "nbconvert_exporter": "python",
   "pygments_lexer": "ipython3",
   "version": "3.8.8"
  }
 },
 "nbformat": 4,
 "nbformat_minor": 5
}
