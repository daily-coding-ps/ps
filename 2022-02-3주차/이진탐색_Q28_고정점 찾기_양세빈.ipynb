{
 "cells": [
  {
   "cell_type": "code",
   "execution_count": 12,
   "id": "8c14ac25",
   "metadata": {},
   "outputs": [
    {
     "name": "stdout",
     "output_type": "stream",
     "text": [
      "7\n",
      "-15 -4 3 8 9 13 15\n"
     ]
    }
   ],
   "source": [
    "n = int(input())\n",
    "li = list(map(int,input().split()))"
   ]
  },
  {
   "cell_type": "code",
   "execution_count": 15,
   "id": "436ae6f9",
   "metadata": {},
   "outputs": [],
   "source": [
    "def tree(m,s,e):\n",
    "    global idx\n",
    "    m = (s+e)//2\n",
    "    if m==0 or m >=n-1:\n",
    "        return\n",
    "    \n",
    "    if li[m] < m:\n",
    "        tree(m,m+1,e)        \n",
    "    elif li[m] > m:\n",
    "        tree(m,s,m-1)\n",
    "    else:\n",
    "        idx = m\n",
    "        return"
   ]
  },
  {
   "cell_type": "code",
   "execution_count": 16,
   "id": "b6375ec3",
   "metadata": {},
   "outputs": [
    {
     "name": "stdout",
     "output_type": "stream",
     "text": [
      "-1\n"
     ]
    }
   ],
   "source": [
    "idx=-1\n",
    "tree(0,0,5)\n",
    "print(idx)"
   ]
  }
 ],
 "metadata": {
  "kernelspec": {
   "display_name": "Python 3",
   "language": "python",
   "name": "python3"
  },
  "language_info": {
   "codemirror_mode": {
    "name": "ipython",
    "version": 3
   },
   "file_extension": ".py",
   "mimetype": "text/x-python",
   "name": "python",
   "nbconvert_exporter": "python",
   "pygments_lexer": "ipython3",
   "version": "3.8.8"
  }
 },
 "nbformat": 4,
 "nbformat_minor": 5
}
