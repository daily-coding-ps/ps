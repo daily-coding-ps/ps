{
 "cells": [
  {
   "cell_type": "code",
   "execution_count": 43,
   "id": "86119058",
   "metadata": {},
   "outputs": [],
   "source": [
    "words = [\"fr\"]\n",
    "queries = [\"fr?\"]"
   ]
  },
  {
   "cell_type": "code",
   "execution_count": 44,
   "id": "c32370e3",
   "metadata": {},
   "outputs": [],
   "source": [
    "def trie(v,word):\n",
    "    len_w = len(word)\n",
    "    for w in word:\n",
    "        if w not in v:\n",
    "            v[w]={}\n",
    "        if 'len' not in v:\n",
    "            v['len']=[]\n",
    "        v['len'].append(len_w)\n",
    "        v = v[w]\n",
    "    v['len']=[len_w]\n",
    "    v['end']=True  "
   ]
  },
  {
   "cell_type": "code",
   "execution_count": 45,
   "id": "d6078ab1",
   "metadata": {},
   "outputs": [],
   "source": [
    "def search(v,querie):\n",
    "    len_q = len(querie)\n",
    "    \n",
    "    for q in querie:\n",
    "        if q == '?':\n",
    "            answer.append(v['len'].count(len_q))\n",
    "            return\n",
    "        if q not in v:\n",
    "            answer.append(0)\n",
    "            return\n",
    "        v=v[q]"
   ]
  },
  {
   "cell_type": "code",
   "execution_count": 46,
   "id": "ca2eaf9e",
   "metadata": {},
   "outputs": [],
   "source": [
    "dic, re_dic = {}, {}\n",
    "\n",
    "for word in words:\n",
    "    trie(dic,word)\n",
    "    trie(re_dic,word[::-1])"
   ]
  },
  {
   "cell_type": "code",
   "execution_count": 47,
   "id": "82bcb6a9",
   "metadata": {},
   "outputs": [],
   "source": [
    "answer=[]\n",
    "for querie in queries:\n",
    "    if querie[0]=='?':\n",
    "        search(re_dic,querie[::-1])\n",
    "\n",
    "    else:\n",
    "        search(dic,querie)"
   ]
  },
  {
   "cell_type": "code",
   "execution_count": 48,
   "id": "fc4677fe",
   "metadata": {},
   "outputs": [
    {
     "data": {
      "text/plain": [
       "[0]"
      ]
     },
     "execution_count": 48,
     "metadata": {},
     "output_type": "execute_result"
    }
   ],
   "source": [
    "answer"
   ]
  },
  {
   "cell_type": "code",
   "execution_count": null,
   "id": "12a5c465",
   "metadata": {},
   "outputs": [],
   "source": []
  },
  {
   "cell_type": "code",
   "execution_count": null,
   "id": "fac6e59b",
   "metadata": {},
   "outputs": [],
   "source": [
    "## 제출코드"
   ]
  },
  {
   "cell_type": "code",
   "execution_count": 92,
   "id": "be5efd82",
   "metadata": {},
   "outputs": [],
   "source": [
    "def solution(words, queries):\n",
    "    def trie(head,word):\n",
    "        v = head\n",
    "        len_w = len(word)\n",
    "        for w in word:\n",
    "            if w not in v:\n",
    "                v[w]={}\n",
    "            if 'len' not in v:\n",
    "                v['len']=[]\n",
    "            v['len'].append(len_w)\n",
    "            v = v[w]\n",
    "\n",
    "        if 'len' not in v:\n",
    "            v['len']=[]\n",
    "        v['len'].append(len_w)\n",
    "        v['end']=True\n",
    "\n",
    "    def search(head,querie):\n",
    "        v = head\n",
    "        len_q = len(querie)\n",
    "\n",
    "        for q in querie:\n",
    "            if q == '?':\n",
    "                answer.append(v['len'].count(len_q))\n",
    "                break\n",
    "            if q not in v:\n",
    "                answer.append(0)\n",
    "                break\n",
    "            v=v[q]\n",
    "            \n",
    "    dic, re_dic = {}, {}\n",
    "    answer=[]\n",
    "    for word in words:\n",
    "        trie(dic,word)\n",
    "        trie(re_dic,word[::-1])\n",
    "\n",
    "    for querie in queries:\n",
    "        if querie[0]=='?':\n",
    "            search(re_dic,querie[::-1])\n",
    "        else:\n",
    "            search(dic,querie)\n",
    "\n",
    "    return answer"
   ]
  },
  {
   "cell_type": "code",
   "execution_count": 93,
   "id": "3697300a",
   "metadata": {},
   "outputs": [],
   "source": [
    "words = [\"fr\"]\n",
    "queries = [\"fr?\"]"
   ]
  },
  {
   "cell_type": "code",
   "execution_count": 94,
   "id": "6e2c9b15",
   "metadata": {
    "scrolled": true
   },
   "outputs": [
    {
     "data": {
      "text/plain": [
       "[0]"
      ]
     },
     "execution_count": 94,
     "metadata": {},
     "output_type": "execute_result"
    }
   ],
   "source": [
    "solution(words, queries)"
   ]
  },
  {
   "cell_type": "code",
   "execution_count": null,
   "id": "3a4f724c",
   "metadata": {},
   "outputs": [],
   "source": []
  }
 ],
 "metadata": {
  "kernelspec": {
   "display_name": "Python 3",
   "language": "python",
   "name": "python3"
  },
  "language_info": {
   "codemirror_mode": {
    "name": "ipython",
    "version": 3
   },
   "file_extension": ".py",
   "mimetype": "text/x-python",
   "name": "python",
   "nbconvert_exporter": "python",
   "pygments_lexer": "ipython3",
   "version": "3.8.8"
  }
 },
 "nbformat": 4,
 "nbformat_minor": 5
}
