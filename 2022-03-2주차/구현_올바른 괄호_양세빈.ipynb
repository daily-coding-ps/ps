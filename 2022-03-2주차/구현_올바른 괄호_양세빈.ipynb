{
 "cells": [
  {
   "cell_type": "code",
   "execution_count": null,
   "id": "2f59fc2b",
   "metadata": {},
   "outputs": [],
   "source": [
    "n=0\n",
    "for i in s:\n",
    "    if i=='(':\n",
    "        n+=1\n",
    "    else:\n",
    "        n-=1\n",
    "    if n==-1:\n",
    "        return False\n",
    "        break\n",
    "if n!=0:\n",
    "    return False\n",
    "return True"
   ]
  }
 ],
 "metadata": {
  "kernelspec": {
   "display_name": "Python 3",
   "language": "python",
   "name": "python3"
  },
  "language_info": {
   "codemirror_mode": {
    "name": "ipython",
    "version": 3
   },
   "file_extension": ".py",
   "mimetype": "text/x-python",
   "name": "python",
   "nbconvert_exporter": "python",
   "pygments_lexer": "ipython3",
   "version": "3.8.8"
  }
 },
 "nbformat": 4,
 "nbformat_minor": 5
}
