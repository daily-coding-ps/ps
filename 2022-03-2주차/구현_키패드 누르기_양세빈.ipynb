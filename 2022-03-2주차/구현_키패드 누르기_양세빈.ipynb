{
 "cells": [
  {
   "cell_type": "code",
   "execution_count": null,
   "id": "fdbf31b6",
   "metadata": {},
   "outputs": [],
   "source": [
    "def solution(numbers, hand):\n",
    "    last_l, last_r = [3,0], [3,2]\n",
    "    answer = ''\n",
    "    for i in numbers:\n",
    "        r = (i-1)//3\n",
    "        c = (i+2)%3\n",
    "        if i==0:\n",
    "            r,c = 3,1    \n",
    "        if c == 0:\n",
    "            answer+='L'\n",
    "            last_l = [r,c]\n",
    "        elif c == 2:\n",
    "            answer+='R'\n",
    "            last_r = [r,c]\n",
    "        else:\n",
    "            l_len, r_len = abs(r-last_l[0]) + abs(c-last_l[1]), abs(r-last_r[0]) + abs(c-last_r[1])\n",
    "\n",
    "            if l_len == r_len:\n",
    "                if hand == 'right': \n",
    "                    answer+='R'\n",
    "                    last_r = [r,c]\n",
    "                else: \n",
    "                    answer+='L'\n",
    "                    last_l = [r,c]\n",
    "            elif l_len > r_len:\n",
    "                answer+='R'\n",
    "                last_r = [r,c]\n",
    "            else:\n",
    "                answer+='L'\n",
    "                last_l = [r,c]   \n",
    "    return answer"
   ]
  }
 ],
 "metadata": {
  "kernelspec": {
   "display_name": "Python 3",
   "language": "python",
   "name": "python3"
  },
  "language_info": {
   "codemirror_mode": {
    "name": "ipython",
    "version": 3
   },
   "file_extension": ".py",
   "mimetype": "text/x-python",
   "name": "python",
   "nbconvert_exporter": "python",
   "pygments_lexer": "ipython3",
   "version": "3.8.8"
  }
 },
 "nbformat": 4,
 "nbformat_minor": 5
}
