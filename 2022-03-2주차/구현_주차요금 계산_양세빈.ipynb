{
 "cells": [
  {
   "cell_type": "code",
   "execution_count": null,
   "id": "76f4bcb5",
   "metadata": {},
   "outputs": [],
   "source": [
    "import math\n",
    "def solution(fees, records):\n",
    "    li=[]\n",
    "    number=dict()\n",
    "    for i in range(len(records)):\n",
    "        a=records[i].split()\n",
    "        li.append(a)\n",
    "        number[a[1]]=0\n",
    "        li[i][0]=[int(a[0][:2]),int(a[0][3:5])]\n",
    "    for i in range(len(li)):\n",
    "        out=True\n",
    "        if li[i][2]!='x':\n",
    "            for j in range(i+1,len(li)):\n",
    "                if li[j][2]!='x':\n",
    "                    if li[i][1]==li[j][1]:\n",
    "                        m = (li[j][0][0]-li[i][0][0])*60+(li[j][0][1]-li[i][0][1])\n",
    "                        li[j][2],li[i][2]='x','x'\n",
    "                        number[li[i][1]] += m\n",
    "                        out=False\n",
    "                        break\n",
    "            if out:\n",
    "                m = (23-li[i][0][0])*60+(59-li[i][0][1])\n",
    "                number[li[i][1]] += m\n",
    "\n",
    "    for i,k in enumerate(number):\n",
    "        if number[k] < fees[0]: # 기본시간보다 작을때\n",
    "            number[k] = fees[1]\n",
    "        else:\n",
    "            number[k] = math.ceil((number[k]-fees[0])/fees[2])*fees[3]+fees[1]\n",
    "    return [number[i] for i in sorted(number)]"
   ]
  }
 ],
 "metadata": {
  "kernelspec": {
   "display_name": "Python 3",
   "language": "python",
   "name": "python3"
  },
  "language_info": {
   "codemirror_mode": {
    "name": "ipython",
    "version": 3
   },
   "file_extension": ".py",
   "mimetype": "text/x-python",
   "name": "python",
   "nbconvert_exporter": "python",
   "pygments_lexer": "ipython3",
   "version": "3.8.8"
  }
 },
 "nbformat": 4,
 "nbformat_minor": 5
}
