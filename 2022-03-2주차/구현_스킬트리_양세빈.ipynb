{
 "cells": [
  {
   "cell_type": "code",
   "execution_count": 12,
   "id": "627bb0ef",
   "metadata": {},
   "outputs": [],
   "source": [
    "def solution(skill, skill_trees):\n",
    "    count=0\n",
    "    for skt in skill_trees:\n",
    "        t=True\n",
    "        if skill[0] in skt:\n",
    "            a = skt.index(skill[0])\n",
    "        else:\n",
    "            a=1000\n",
    "        for i in skill[1:]:\n",
    "            if i in skt:\n",
    "                b = skt.index(i)\n",
    "                if a > b:\n",
    "                    t=False\n",
    "                    break\n",
    "                else:\n",
    "                    a = b\n",
    "            else:\n",
    "                a = 1000\n",
    "        if t:\n",
    "            count+=1\n",
    "    return count"
   ]
  }
 ],
 "metadata": {
  "kernelspec": {
   "display_name": "Python 3",
   "language": "python",
   "name": "python3"
  },
  "language_info": {
   "codemirror_mode": {
    "name": "ipython",
    "version": 3
   },
   "file_extension": ".py",
   "mimetype": "text/x-python",
   "name": "python",
   "nbconvert_exporter": "python",
   "pygments_lexer": "ipython3",
   "version": "3.8.8"
  }
 },
 "nbformat": 4,
 "nbformat_minor": 5
}
