{
 "cells": [
  {
   "cell_type": "code",
   "execution_count": 22,
   "id": "1eac1641",
   "metadata": {},
   "outputs": [
    {
     "name": "stdout",
     "output_type": "stream",
     "text": [
      "25\n",
      "0 1 0 1 0 1 0 1 0 1 0 1 0 1 0 1 0 1 0 1 0 1 0 1 0\n"
     ]
    }
   ],
   "source": [
    "n = int(input())\n",
    "li = [2]+list(map(int,input().split()))"
   ]
  },
  {
   "cell_type": "code",
   "execution_count": 23,
   "id": "276b2322",
   "metadata": {},
   "outputs": [
    {
     "name": "stdout",
     "output_type": "stream",
     "text": [
      "1\n",
      "1 1\n"
     ]
    }
   ],
   "source": [
    "for i in range(int(input())):\n",
    "    s,num = map(int,input().split())\n",
    "    if s==1:\n",
    "        idx=0\n",
    "        while 1:\n",
    "            idx+=1\n",
    "            if num*idx > n:\n",
    "                break\n",
    "            if li[num*idx]==1:\n",
    "                li[num*idx]=0\n",
    "            else:\n",
    "                li[num*idx]=1\n",
    "    else:\n",
    "        max_i = min(num-1,n-num)\n",
    "        idx=0\n",
    "        if li[num]==1:\n",
    "            li[num]=0\n",
    "        else:\n",
    "            li[num]=1\n",
    "        while 1:\n",
    "            if max_i==idx:\n",
    "                break\n",
    "            idx+=1\n",
    "            \n",
    "            if li[num-idx]==li[num+idx]:\n",
    "                if li[num-idx]==1:\n",
    "                    li[num-idx],li[num+idx]=0,0\n",
    "                else:\n",
    "                    li[num-idx],li[num+idx]=1,1\n",
    "            else:\n",
    "                break"
   ]
  },
  {
   "cell_type": "code",
   "execution_count": 32,
   "id": "bf7ab2ab",
   "metadata": {},
   "outputs": [
    {
     "name": "stdout",
     "output_type": "stream",
     "text": [
      "0 1 0 1 0 1 0 1 0 1 0 1 0 1 0 1 0 1 0 1\n",
      "0 1 0 1\n"
     ]
    }
   ],
   "source": [
    "li=li[1:]\n",
    "for i in range(len(li)//20+1):\n",
    "    print(*li[i*20:(i*20)+20])"
   ]
  }
 ],
 "metadata": {
  "kernelspec": {
   "display_name": "Python 3",
   "language": "python",
   "name": "python3"
  },
  "language_info": {
   "codemirror_mode": {
    "name": "ipython",
    "version": 3
   },
   "file_extension": ".py",
   "mimetype": "text/x-python",
   "name": "python",
   "nbconvert_exporter": "python",
   "pygments_lexer": "ipython3",
   "version": "3.8.8"
  }
 },
 "nbformat": 4,
 "nbformat_minor": 5
}
