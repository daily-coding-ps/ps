{
 "cells": [
  {
   "cell_type": "code",
   "execution_count": 18,
   "id": "d354cfd7",
   "metadata": {},
   "outputs": [
    {
     "name": "stdout",
     "output_type": "stream",
     "text": [
      "5 5\n"
     ]
    }
   ],
   "source": [
    "n,m=map(int,input().split())"
   ]
  },
  {
   "cell_type": "code",
   "execution_count": 19,
   "id": "e3892dc7",
   "metadata": {},
   "outputs": [
    {
     "name": "stdout",
     "output_type": "stream",
     "text": [
      "WBWWW\n",
      "WWWWW\n",
      "BBBBB\n",
      "BBBWW\n",
      "WWWWW\n"
     ]
    }
   ],
   "source": [
    "li=[]\n",
    "for _ in range(m):\n",
    "    li.append(input())"
   ]
  },
  {
   "cell_type": "code",
   "execution_count": 35,
   "id": "e445dd9e",
   "metadata": {},
   "outputs": [],
   "source": [
    "def bfs(y,x,wb):\n",
    "    global count\n",
    "    count+=1\n",
    "    check[y][x]=1\n",
    "    for i in range(4):\n",
    "        ny=y+dy[i]\n",
    "        nx=x+dx[i]\n",
    "        if 0 <= ny < m and 0 <= nx < n:\n",
    "            if li[ny][nx]==wb and check[ny][nx]==0:\n",
    "                bfs(ny,nx,wb)"
   ]
  },
  {
   "cell_type": "code",
   "execution_count": 36,
   "id": "1b94ccc7",
   "metadata": {},
   "outputs": [],
   "source": [
    "check=[[0]*n for _ in range(m)]"
   ]
  },
  {
   "cell_type": "code",
   "execution_count": 37,
   "id": "e308b29f",
   "metadata": {},
   "outputs": [],
   "source": [
    "dx=[0,0,-1,1]\n",
    "dy=[-1,1,0,0]\n",
    "w,b=0,0\n",
    "for i in range(m):\n",
    "    for j in range(n):\n",
    "        if check[i][j] == 0:\n",
    "            count=0\n",
    "            bfs(i,j,li[i][j])\n",
    "            if li[i][j] == \"W\":\n",
    "                w += count*count\n",
    "            else:\n",
    "                b += count*count"
   ]
  },
  {
   "cell_type": "code",
   "execution_count": 41,
   "id": "11f8fabc",
   "metadata": {},
   "outputs": [
    {
     "name": "stdout",
     "output_type": "stream",
     "text": [
      "130 65\n"
     ]
    }
   ],
   "source": [
    "print(w,b)"
   ]
  }
 ],
 "metadata": {
  "kernelspec": {
   "display_name": "Python 3",
   "language": "python",
   "name": "python3"
  },
  "language_info": {
   "codemirror_mode": {
    "name": "ipython",
    "version": 3
   },
   "file_extension": ".py",
   "mimetype": "text/x-python",
   "name": "python",
   "nbconvert_exporter": "python",
   "pygments_lexer": "ipython3",
   "version": "3.8.8"
  }
 },
 "nbformat": 4,
 "nbformat_minor": 5
}
