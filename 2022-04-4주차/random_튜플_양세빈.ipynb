{
 "cells": [
  {
   "cell_type": "code",
   "execution_count": 55,
   "id": "469eab8f",
   "metadata": {},
   "outputs": [],
   "source": [
    "s=\"{{20,111},{111}}\""
   ]
  },
  {
   "cell_type": "code",
   "execution_count": 56,
   "id": "1aca3f0c",
   "metadata": {},
   "outputs": [],
   "source": [
    "li=[]\n",
    "for i in s.split(\"},\"):\n",
    "    li.append(i.replace(\"{\",\"\").replace(\"}\",\"\").split(\",\"))"
   ]
  },
  {
   "cell_type": "code",
   "execution_count": 58,
   "id": "d8341bd8",
   "metadata": {},
   "outputs": [],
   "source": [
    "li.sort(key=len)"
   ]
  },
  {
   "cell_type": "code",
   "execution_count": 59,
   "id": "31ad8ae6",
   "metadata": {},
   "outputs": [],
   "source": [
    "answer=[]\n",
    "for i in li:\n",
    "    for j in i:\n",
    "        if j not in answer:\n",
    "            answer.append(j)"
   ]
  },
  {
   "cell_type": "code",
   "execution_count": 60,
   "id": "6d4b80e3",
   "metadata": {},
   "outputs": [
    {
     "data": {
      "text/plain": [
       "[111, 20]"
      ]
     },
     "execution_count": 60,
     "metadata": {},
     "output_type": "execute_result"
    }
   ],
   "source": [
    "list(map(int,answer))"
   ]
  },
  {
   "cell_type": "code",
   "execution_count": null,
   "id": "fd71f32c",
   "metadata": {},
   "outputs": [],
   "source": []
  },
  {
   "cell_type": "code",
   "execution_count": null,
   "id": "0740a648",
   "metadata": {},
   "outputs": [],
   "source": [
    "def solution(s):\n",
    "    li=[]\n",
    "    for i in s.split(\"},\"):\n",
    "        li.append(i.replace(\"{\",\"\").replace(\"}\",\"\").split(\",\"))\n",
    "    li.sort(key=len)\n",
    "    answer=[]\n",
    "    for i in li:\n",
    "        for j in i:\n",
    "            if j not in answer:\n",
    "                answer.append(j)\n",
    "    return list(map(int,answer))"
   ]
  }
 ],
 "metadata": {
  "kernelspec": {
   "display_name": "Python 3",
   "language": "python",
   "name": "python3"
  },
  "language_info": {
   "codemirror_mode": {
    "name": "ipython",
    "version": 3
   },
   "file_extension": ".py",
   "mimetype": "text/x-python",
   "name": "python",
   "nbconvert_exporter": "python",
   "pygments_lexer": "ipython3",
   "version": "3.8.8"
  }
 },
 "nbformat": 4,
 "nbformat_minor": 5
}
