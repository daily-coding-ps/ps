{
 "cells": [
  {
   "cell_type": "code",
   "execution_count": 53,
   "id": "45687ea9",
   "metadata": {},
   "outputs": [],
   "source": [
    "n = 5\n",
    "lost = [4,2]\n",
    "reserve = [3,5]"
   ]
  },
  {
   "cell_type": "code",
   "execution_count": 54,
   "id": "4fb78442",
   "metadata": {},
   "outputs": [],
   "source": [
    "count=0\n",
    "lost.sort()\n",
    "reserve.sort()\n",
    "for i in range(len(lost)):\n",
    "    if lost[i] in reserve:\n",
    "        reserve[reserve.index(lost[i])]=-1\n",
    "        lost[i]= -10\n",
    "        count+=1\n",
    "        \n",
    "for i in range(len(lost)):\n",
    "    for j in range(len(reserve)):\n",
    "        if lost[i]-1<=reserve[j]<=lost[i]+1:\n",
    "            lost[i]= -10\n",
    "            reserve[j]=-1\n",
    "            count+=1"
   ]
  },
  {
   "cell_type": "code",
   "execution_count": 56,
   "id": "b453b833",
   "metadata": {
    "scrolled": true
   },
   "outputs": [
    {
     "data": {
      "text/plain": [
       "5"
      ]
     },
     "execution_count": 56,
     "metadata": {},
     "output_type": "execute_result"
    }
   ],
   "source": [
    "n-len(lost)+count"
   ]
  },
  {
   "cell_type": "code",
   "execution_count": null,
   "id": "ca98c9b5",
   "metadata": {},
   "outputs": [],
   "source": []
  }
 ],
 "metadata": {
  "kernelspec": {
   "display_name": "Python 3",
   "language": "python",
   "name": "python3"
  },
  "language_info": {
   "codemirror_mode": {
    "name": "ipython",
    "version": 3
   },
   "file_extension": ".py",
   "mimetype": "text/x-python",
   "name": "python",
   "nbconvert_exporter": "python",
   "pygments_lexer": "ipython3",
   "version": "3.8.8"
  }
 },
 "nbformat": 4,
 "nbformat_minor": 5
}
