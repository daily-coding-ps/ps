{
 "cells": [
  {
   "cell_type": "code",
   "execution_count": null,
   "id": "ebfc31ae",
   "metadata": {},
   "outputs": [],
   "source": [
    "li=[]\n",
    "for i in range(19):\n",
    "    li.append(list(map(int,input().split())))"
   ]
  },
  {
   "cell_type": "code",
   "execution_count": 402,
   "id": "98453c70",
   "metadata": {},
   "outputs": [],
   "source": [
    "def bfs(now,y,x,di):\n",
    "    global count\n",
    "    check[y][x]=1\n",
    "    count+=1\n",
    "    loc.append([y,x])\n",
    "    for i in range(2):\n",
    "        ny = y+dy[di+i*4]\n",
    "        nx = x+dx[di+i*4]\n",
    "        if 0<=ny<19 and 0<=nx<19:\n",
    "            if check[ny][nx]==0 and li[ny][nx]==now:\n",
    "                bfs(now,ny,nx,di)"
   ]
  },
  {
   "cell_type": "code",
   "execution_count": 403,
   "id": "29f092db",
   "metadata": {},
   "outputs": [],
   "source": [
    "dy = [-1,0,-1,-1,1,0,1,1]  # 방향 상하,좌우,왼대각,오대각\n",
    "dx = [0,-1,-1,1,0,1,1,-1]"
   ]
  },
  {
   "cell_type": "code",
   "execution_count": 404,
   "id": "73fc3e60",
   "metadata": {},
   "outputs": [],
   "source": [
    "now,count=0,0\n",
    "loc=[]\n",
    "for i in range(19):\n",
    "    for j in range(19):\n",
    "        if li[i][j]>0:\n",
    "            for di in range(4):\n",
    "                check=[[0]*19 for _ in range(19)]\n",
    "                count=0\n",
    "                loc=[]\n",
    "                bfs(li[i][j],i,j,di)\n",
    "                if count==5:\n",
    "                    now=li[i][j]\n",
    "                    break\n",
    "            if count==5:\n",
    "                break\n",
    "    if count==5:\n",
    "        break"
   ]
  },
  {
   "cell_type": "code",
   "execution_count": 410,
   "id": "1bcc760b",
   "metadata": {},
   "outputs": [],
   "source": [
    "loc.sort(key=lambda x : x[1])"
   ]
  },
  {
   "cell_type": "code",
   "execution_count": 406,
   "id": "55ea2959",
   "metadata": {},
   "outputs": [
    {
     "name": "stdout",
     "output_type": "stream",
     "text": [
      "0\n"
     ]
    }
   ],
   "source": [
    "print(now)\n",
    "if len(loc)==5:\n",
    "    print(loc[0][0]+1,loc[0][1]+1)"
   ]
  },
  {
   "cell_type": "code",
   "execution_count": null,
   "id": "bb982da6",
   "metadata": {},
   "outputs": [],
   "source": []
  }
 ],
 "metadata": {
  "kernelspec": {
   "display_name": "Python 3",
   "language": "python",
   "name": "python3"
  },
  "language_info": {
   "codemirror_mode": {
    "name": "ipython",
    "version": 3
   },
   "file_extension": ".py",
   "mimetype": "text/x-python",
   "name": "python",
   "nbconvert_exporter": "python",
   "pygments_lexer": "ipython3",
   "version": "3.8.8"
  }
 },
 "nbformat": 4,
 "nbformat_minor": 5
}
