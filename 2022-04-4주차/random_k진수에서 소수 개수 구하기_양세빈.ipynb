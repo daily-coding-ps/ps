{
 "cells": [
  {
   "cell_type": "code",
   "execution_count": 71,
   "id": "16048489",
   "metadata": {},
   "outputs": [],
   "source": [
    "n = 437674\n",
    "k = 3"
   ]
  },
  {
   "cell_type": "code",
   "execution_count": 72,
   "id": "507a9710",
   "metadata": {},
   "outputs": [],
   "source": [
    "word=\"\"\n",
    "while n:\n",
    "    word = str(n%k)+word\n",
    "    n=n//k"
   ]
  },
  {
   "cell_type": "code",
   "execution_count": 64,
   "id": "bb9c82f7",
   "metadata": {},
   "outputs": [],
   "source": [
    "word=word.split(\"0\")"
   ]
  },
  {
   "cell_type": "code",
   "execution_count": 66,
   "id": "4dc208e6",
   "metadata": {},
   "outputs": [],
   "source": [
    "count=0\n",
    "for w in word:\n",
    "    if len(w)==0:\n",
    "        continue\n",
    "    if int(w)<2:\n",
    "        continue\n",
    "    sosu=True\n",
    "    for i in range(2,int(int(w)**0.5)+1):\n",
    "        if int(w)%i==0:\n",
    "            sosu=False\n",
    "            break\n",
    "    if sosu:\n",
    "        count+=1"
   ]
  },
  {
   "cell_type": "code",
   "execution_count": 67,
   "id": "9738afd1",
   "metadata": {},
   "outputs": [
    {
     "data": {
      "text/plain": [
       "2"
      ]
     },
     "execution_count": 67,
     "metadata": {},
     "output_type": "execute_result"
    }
   ],
   "source": [
    "count"
   ]
  },
  {
   "cell_type": "code",
   "execution_count": null,
   "id": "5ac45c65",
   "metadata": {},
   "outputs": [],
   "source": []
  },
  {
   "cell_type": "code",
   "execution_count": null,
   "id": "4885f7f9",
   "metadata": {},
   "outputs": [],
   "source": []
  },
  {
   "cell_type": "code",
   "execution_count": null,
   "id": "ffd66267",
   "metadata": {},
   "outputs": [],
   "source": [
    "def solution(n, k):\n",
    "    word=\"\"\n",
    "    while n:\n",
    "        word = str(n%k)+word\n",
    "        n=n//k\n",
    "        \n",
    "    word=word.split(\"0\")\n",
    "    \n",
    "    count=0\n",
    "    for w in word:\n",
    "        if len(w)==0:\n",
    "            continue\n",
    "        if int(w)<2:\n",
    "            continue\n",
    "        sosu=True\n",
    "        for i in range(2,int(int(w)**0.5)+1):\n",
    "            if int(w)%i==0:\n",
    "                sosu=False\n",
    "                break\n",
    "        if sosu:\n",
    "            count+=1\n",
    "            \n",
    "    return count"
   ]
  }
 ],
 "metadata": {
  "kernelspec": {
   "display_name": "Python 3",
   "language": "python",
   "name": "python3"
  },
  "language_info": {
   "codemirror_mode": {
    "name": "ipython",
    "version": 3
   },
   "file_extension": ".py",
   "mimetype": "text/x-python",
   "name": "python",
   "nbconvert_exporter": "python",
   "pygments_lexer": "ipython3",
   "version": "3.8.8"
  }
 },
 "nbformat": 4,
 "nbformat_minor": 5
}
