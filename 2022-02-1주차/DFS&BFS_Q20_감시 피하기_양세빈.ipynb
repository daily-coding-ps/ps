{
 "cells": [
  {
   "cell_type": "code",
   "execution_count": 81,
   "id": "889a1f3e",
   "metadata": {},
   "outputs": [
    {
     "name": "stdout",
     "output_type": "stream",
     "text": [
      "4\n",
      "S S S T\n",
      "X X X X\n",
      "X X X X\n",
      "T T T X\n"
     ]
    }
   ],
   "source": [
    "n = int(input())\n",
    "teacher,li=[],[]\n",
    "for i in range(n):\n",
    "    a=input().split()\n",
    "    li.append(a)\n",
    "    for j in range(n):\n",
    "        if a[j]=='T':\n",
    "            teacher.append([i,j])"
   ]
  },
  {
   "cell_type": "code",
   "execution_count": 82,
   "id": "0f29b6ac",
   "metadata": {},
   "outputs": [],
   "source": [
    "def see(r,c):\n",
    "    for i in range(1,r+1):\n",
    "        if li[r-i][c]=='O':\n",
    "            break\n",
    "        elif li[r-i][c]=='S':\n",
    "            return False\n",
    "        \n",
    "    for i in range(r+1,n):\n",
    "        if li[i][c]=='O':\n",
    "            break\n",
    "        elif li[i][c]=='S':\n",
    "            return False\n",
    "        \n",
    "    for i in range(1,c+1):\n",
    "        if li[r][c-i]=='O':\n",
    "            break\n",
    "        elif li[r][c-i]=='S':\n",
    "            return False\n",
    "        \n",
    "    for i in range(c+1,n):\n",
    "        if li[r][i]=='O':\n",
    "            break\n",
    "        elif li[r][i]=='S':\n",
    "            return False\n",
    "    return True    "
   ]
  },
  {
   "cell_type": "code",
   "execution_count": 83,
   "id": "dc7221da",
   "metadata": {},
   "outputs": [],
   "source": [
    "def wall(depth):\n",
    "    global t\n",
    "    if depth==3:\n",
    "        for i in teacher:\n",
    "            if see(i[0],i[1]):\n",
    "                t=True\n",
    "            else:\n",
    "                t=False\n",
    "                break\n",
    "        return\n",
    "        \n",
    "    for i in range(n):\n",
    "        for j in range(n):\n",
    "            if li[i][j]=='X' and t==False:\n",
    "                li[i][j]='O'\n",
    "                wall(depth+1)\n",
    "                li[i][j]='X'"
   ]
  },
  {
   "cell_type": "code",
   "execution_count": 84,
   "id": "1f89cb98",
   "metadata": {},
   "outputs": [
    {
     "name": "stdout",
     "output_type": "stream",
     "text": [
      "NO\n"
     ]
    }
   ],
   "source": [
    "t=False\n",
    "wall(0)\n",
    "if t:\n",
    "    print('YES')\n",
    "else:\n",
    "    print('NO')"
   ]
  },
  {
   "cell_type": "code",
   "execution_count": null,
   "id": "4fa53c2c",
   "metadata": {},
   "outputs": [],
   "source": []
  }
 ],
 "metadata": {
  "kernelspec": {
   "display_name": "Python 3",
   "language": "python",
   "name": "python3"
  },
  "language_info": {
   "codemirror_mode": {
    "name": "ipython",
    "version": 3
   },
   "file_extension": ".py",
   "mimetype": "text/x-python",
   "name": "python",
   "nbconvert_exporter": "python",
   "pygments_lexer": "ipython3",
   "version": "3.8.8"
  }
 },
 "nbformat": 4,
 "nbformat_minor": 5
}
