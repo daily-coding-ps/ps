{
 "cells": [
  {
   "cell_type": "code",
   "execution_count": 136,
   "id": "95f25b6b",
   "metadata": {},
   "outputs": [
    {
     "name": "stdout",
     "output_type": "stream",
     "text": [
      "3\n",
      "3 4 5\n",
      "1 0 1 0\n",
      "35\n",
      "17\n"
     ]
    }
   ],
   "source": [
    "\n",
    "n = int(input())\n",
    "num_li = list(map(int,input().split()))\n",
    "fun = list(map(int,input().split()))\n",
    "\n",
    "def dfs(depth,sum_num):\n",
    "    global max_num, min_num\n",
    "    \n",
    "    if depth==(n-1):\n",
    "        max_num = max(sum_num,max_num)\n",
    "        min_num = min(sum_num,min_num)\n",
    "        return\n",
    "    \n",
    "    if fun[0]>0:\n",
    "        fun[0]-=1\n",
    "        dfs(depth+1, sum_num+num_li[depth+1])\n",
    "        fun[0]+=1\n",
    "    if fun[1]>0:\n",
    "        fun[1]-=1\n",
    "        dfs(depth+1, sum_num-num_li[depth+1])\n",
    "        fun[1]+=1\n",
    "    if fun[2]>0:\n",
    "        fun[2]-=1\n",
    "        dfs(depth+1, sum_num*num_li[depth+1])\n",
    "        fun[2]+=1\n",
    "    if fun[3]>0:\n",
    "        fun[3]-=1\n",
    "        dfs(depth+1, int(sum_num/num_li[depth+1]))\n",
    "        fun[3]+=1\n",
    "\n",
    "min_num,max_num = 1e9,-1e9\n",
    "dfs(0,num_li[0])\n",
    "\n",
    "print(max_num)\n",
    "print(min_num)"
   ]
  }
 ],
 "metadata": {
  "kernelspec": {
   "display_name": "Python 3",
   "language": "python",
   "name": "python3"
  },
  "language_info": {
   "codemirror_mode": {
    "name": "ipython",
    "version": 3
   },
   "file_extension": ".py",
   "mimetype": "text/x-python",
   "name": "python",
   "nbconvert_exporter": "python",
   "pygments_lexer": "ipython3",
   "version": "3.8.8"
  }
 },
 "nbformat": 4,
 "nbformat_minor": 5
}
