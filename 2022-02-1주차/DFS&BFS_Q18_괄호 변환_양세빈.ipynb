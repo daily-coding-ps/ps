{
 "cells": [
  {
   "cell_type": "code",
   "execution_count": 29,
   "id": "f5d7c5ab",
   "metadata": {},
   "outputs": [],
   "source": [
    "def words_bal(w):\n",
    "    for i in range(len(w)//2+1):\n",
    "        w = w.replace(\"()\",\"\")\n",
    "    if w=='':\n",
    "        return True\n",
    "    else:\n",
    "        return False"
   ]
  },
  {
   "cell_type": "code",
   "execution_count": 30,
   "id": "f388a927",
   "metadata": {},
   "outputs": [],
   "source": [
    "def balance(w):\n",
    "    left,right =0,0\n",
    "    for i in w:\n",
    "        if i=='(':\n",
    "            left+=1\n",
    "        else:\n",
    "            right+=1\n",
    "    if left==right:\n",
    "        return True\n",
    "    else:\n",
    "        return False"
   ]
  },
  {
   "cell_type": "code",
   "execution_count": 94,
   "id": "54aaeafb",
   "metadata": {},
   "outputs": [],
   "source": [
    "def solution(p):\n",
    "    if words_bal(p):\n",
    "        return p\n",
    "    len_p = len(p)\n",
    "    for i in range(2,len_p+1,2):\n",
    "        if balance(p[:i]):\n",
    "            u = p[:i]\n",
    "            v = p[i:]\n",
    "            if words_bal(u):\n",
    "                u += solution(v)\n",
    "                return u\n",
    "            else:\n",
    "                word=\"\"\n",
    "                word += ('('+solution(v)+')') \n",
    "                for i in u[1:-1]:\n",
    "                    if i==\"(\":\n",
    "                        word+=\")\"\n",
    "                    else:\n",
    "                        word+='('\n",
    "                return word"
   ]
  },
  {
   "cell_type": "code",
   "execution_count": 96,
   "id": "110cb02b",
   "metadata": {},
   "outputs": [
    {
     "name": "stdout",
     "output_type": "stream",
     "text": [
      ")(\n"
     ]
    },
    {
     "data": {
      "text/plain": [
       "'()'"
      ]
     },
     "execution_count": 96,
     "metadata": {},
     "output_type": "execute_result"
    }
   ],
   "source": [
    "solution(p)"
   ]
  },
  {
   "cell_type": "code",
   "execution_count": null,
   "id": "865a2abc",
   "metadata": {},
   "outputs": [],
   "source": []
  }
 ],
 "metadata": {
  "kernelspec": {
   "display_name": "Python 3",
   "language": "python",
   "name": "python3"
  },
  "language_info": {
   "codemirror_mode": {
    "name": "ipython",
    "version": 3
   },
   "file_extension": ".py",
   "mimetype": "text/x-python",
   "name": "python",
   "nbconvert_exporter": "python",
   "pygments_lexer": "ipython3",
   "version": "3.8.8"
  }
 },
 "nbformat": 4,
 "nbformat_minor": 5
}
