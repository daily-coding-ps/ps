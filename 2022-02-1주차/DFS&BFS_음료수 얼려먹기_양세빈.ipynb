{
 "cells": [
  {
   "cell_type": "code",
   "execution_count": 4,
   "id": "9c7ae4af",
   "metadata": {},
   "outputs": [
    {
     "name": "stdout",
     "output_type": "stream",
     "text": [
      "4 5\n"
     ]
    }
   ],
   "source": [
    "n,m= map(int,input().split())"
   ]
  },
  {
   "cell_type": "code",
   "execution_count": 16,
   "id": "82cc8cda",
   "metadata": {},
   "outputs": [
    {
     "name": "stdout",
     "output_type": "stream",
     "text": [
      "00110\n",
      "00011\n",
      "11111\n",
      "00000\n"
     ]
    }
   ],
   "source": [
    "li=[]\n",
    "for _ in range(n):\n",
    "    li.append(input())"
   ]
  },
  {
   "cell_type": "code",
   "execution_count": 21,
   "id": "4a64d55a",
   "metadata": {},
   "outputs": [],
   "source": [
    "def dfs(r,c):\n",
    "    global t\n",
    "    if 0<=r<n and 0<=c<m:\n",
    "        if visited[r][c]==0 and li[r][c]==\"0\":\n",
    "            visited[r][c]=1\n",
    "            t=True\n",
    "            for i in range(4):\n",
    "                dfs(r+dy[i],c+dx[i])"
   ]
  },
  {
   "cell_type": "code",
   "execution_count": 22,
   "id": "d6ff75f0",
   "metadata": {},
   "outputs": [],
   "source": [
    "dx=[0,0,-1,1]\n",
    "dy=[-1,1,0,0]\n",
    "visited=[ [0]*m for _ in range(n) ]\n",
    "count = 0\n",
    "for i in range(n):\n",
    "    for j in range(m):\n",
    "        if li[i][j]==\"0\" and visited[i][j]==0:\n",
    "            t=False\n",
    "            dfs(i,j)\n",
    "            if t:\n",
    "                count+=1"
   ]
  },
  {
   "cell_type": "code",
   "execution_count": 23,
   "id": "e7aaf590",
   "metadata": {},
   "outputs": [
    {
     "data": {
      "text/plain": [
       "3"
      ]
     },
     "execution_count": 23,
     "metadata": {},
     "output_type": "execute_result"
    }
   ],
   "source": [
    "count"
   ]
  },
  {
   "cell_type": "code",
   "execution_count": null,
   "id": "7baf61e6",
   "metadata": {},
   "outputs": [],
   "source": []
  }
 ],
 "metadata": {
  "kernelspec": {
   "display_name": "Python 3",
   "language": "python",
   "name": "python3"
  },
  "language_info": {
   "codemirror_mode": {
    "name": "ipython",
    "version": 3
   },
   "file_extension": ".py",
   "mimetype": "text/x-python",
   "name": "python",
   "nbconvert_exporter": "python",
   "pygments_lexer": "ipython3",
   "version": "3.8.8"
  }
 },
 "nbformat": 4,
 "nbformat_minor": 5
}
