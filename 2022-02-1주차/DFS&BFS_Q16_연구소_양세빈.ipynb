{
 "cells": [
  {
   "cell_type": "code",
   "execution_count": null,
   "id": "94680a73",
   "metadata": {},
   "outputs": [],
   "source": [
    "import copy,sys"
   ]
  },
  {
   "cell_type": "code",
   "execution_count": 1,
   "id": "cdff4e54",
   "metadata": {},
   "outputs": [],
   "source": [
    "def virus(r,c):\n",
    "    for i in range(4):\n",
    "        nx= c +dx[i]\n",
    "        ny= r +dy[i]\n",
    "        if 0 <= nx < m and 0 <= ny < n:\n",
    "            if visited[ny][nx]==0:\n",
    "                visited[ny][nx]=1\n",
    "                virus(ny,nx)"
   ]
  },
  {
   "cell_type": "code",
   "execution_count": 6,
   "id": "3a159240",
   "metadata": {},
   "outputs": [],
   "source": [
    "def choice(depth):\n",
    "    global visited, max_val\n",
    "    \n",
    "    if depth==3:\n",
    "        copy_v = copy.deepcopy(visited)\n",
    "        for i in virus_loc:\n",
    "            virus(i[0],i[1])\n",
    "        c = safe_area()\n",
    "        max_val = max(max_val,c)\n",
    "        visited = copy_v\n",
    "        return\n",
    "        \n",
    "    for i in range(n):\n",
    "        for j in range(m):\n",
    "            if visited[i][j]==0:\n",
    "                visited[i][j]=1\n",
    "                choice(depth+1)\n",
    "                visited[i][j]=0"
   ]
  },
  {
   "cell_type": "code",
   "execution_count": null,
   "id": "01c0445d",
   "metadata": {},
   "outputs": [],
   "source": [
    "def safe_area():\n",
    "    count = 0\n",
    "    for i in range(n):\n",
    "        for j in range(m):\n",
    "            if visited[i][j]==0:\n",
    "                count += 1\n",
    "    return count"
   ]
  },
  {
   "cell_type": "code",
   "execution_count": 4,
   "id": "613dc85e",
   "metadata": {},
   "outputs": [
    {
     "name": "stdout",
     "output_type": "stream",
     "text": [
      "7 7\n",
      "2 0 0 0 1 1 0\n",
      "0 0 1 0 1 2 0\n",
      "0 1 1 0 1 0 0\n",
      "0 1 0 0 0 0 0\n",
      "0 0 0 0 0 1 1\n",
      "0 1 0 0 0 0 0\n",
      "0 1 0 0 0 0 0\n"
     ]
    }
   ],
   "source": [
    "n,m = map(int,input().split())\n",
    "virus_loc=[]\n",
    "visited = [[0]*m for _ in range(n)]\n",
    "for i in range(n):\n",
    "    a=list(map(int,input().split()))\n",
    "    for j in range(m):\n",
    "        if a[j]==2:\n",
    "            virus_loc.append([i,j])\n",
    "        if a[j] > 0:\n",
    "            visited[i][j]=1\n",
    "    \n",
    "dx = [0,0,-1,1]\n",
    "dy = [-1,1,0,0]\n",
    "max_val = -1e9\n",
    "choice(0)\n",
    "print(max_val)"
   ]
  },
  {
   "cell_type": "code",
   "execution_count": null,
   "id": "7b5cfd07",
   "metadata": {},
   "outputs": [],
   "source": []
  },
  {
   "cell_type": "code",
   "execution_count": null,
   "id": "4fd26b24",
   "metadata": {},
   "outputs": [],
   "source": []
  }
 ],
 "metadata": {
  "kernelspec": {
   "display_name": "Python 3",
   "language": "python",
   "name": "python3"
  },
  "language_info": {
   "codemirror_mode": {
    "name": "ipython",
    "version": 3
   },
   "file_extension": ".py",
   "mimetype": "text/x-python",
   "name": "python",
   "nbconvert_exporter": "python",
   "pygments_lexer": "ipython3",
   "version": "3.8.8"
  }
 },
 "nbformat": 4,
 "nbformat_minor": 5
}
