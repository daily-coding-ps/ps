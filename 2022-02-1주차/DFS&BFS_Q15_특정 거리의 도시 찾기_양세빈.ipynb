{
 "cells": [
  {
   "cell_type": "code",
   "execution_count": null,
   "id": "0b29c603",
   "metadata": {},
   "outputs": [],
   "source": [
    "# 제출코드"
   ]
  },
  {
   "cell_type": "code",
   "execution_count": null,
   "id": "f06bf910",
   "metadata": {},
   "outputs": [],
   "source": [
    "from collections import deque\n",
    "import sys\n",
    "n,m,k,x= map(int,sys.stdin.readline().split())\n",
    "di=[[] for _ in range(n+1)]\n",
    "\n",
    "for _ in range(m):\n",
    "    a,b = map(int,sys.stdin.readline().split())\n",
    "    di[a].append(b)\n",
    "\n",
    "q = deque()\n",
    "\n",
    "min_li=[300001]*(n+1)\n",
    "min_li[x]=0\n",
    "q.append(x)\n",
    "while q:\n",
    "    qpop = q.popleft()\n",
    "    for i in di[qpop]:\n",
    "        if min_li[i]==300001:\n",
    "            q.append(i)\n",
    "            min_li[i] = min_li[qpop] + 1\n",
    "\n",
    "t=True\n",
    "for i in range(1, n+1):\n",
    "    if min_li[i] == k:\n",
    "        t=False\n",
    "        print(i)\n",
    "if t:\n",
    "    print(-1)"
   ]
  },
  {
   "cell_type": "code",
   "execution_count": null,
   "id": "6899fcd0",
   "metadata": {},
   "outputs": [],
   "source": []
  },
  {
   "cell_type": "code",
   "execution_count": null,
   "id": "b10a4969",
   "metadata": {},
   "outputs": [],
   "source": []
  },
  {
   "cell_type": "code",
   "execution_count": null,
   "id": "cb91ddb5",
   "metadata": {},
   "outputs": [],
   "source": [
    "# 푼 코드"
   ]
  },
  {
   "cell_type": "code",
   "execution_count": 49,
   "id": "82e899a0",
   "metadata": {
    "scrolled": true
   },
   "outputs": [
    {
     "name": "stdout",
     "output_type": "stream",
     "text": [
      "4 3 2 1\n",
      "1 2\n",
      "1 3\n",
      "1 4\n"
     ]
    }
   ],
   "source": [
    "from collections import deque\n",
    "\n",
    "n,m,k,x= map(int,input().split())\n",
    "di=[[] for _ in range(n+1)]\n",
    "\n",
    "for _ in range(m):\n",
    "    a,b = map(int,input().split())\n",
    "    di[a].append(b)"
   ]
  },
  {
   "cell_type": "code",
   "execution_count": 50,
   "id": "cd6a0a95",
   "metadata": {},
   "outputs": [],
   "source": [
    "q = deque()"
   ]
  },
  {
   "cell_type": "code",
   "execution_count": 52,
   "id": "ab73c645",
   "metadata": {},
   "outputs": [],
   "source": [
    "min_li=[300001]*(n+1)\n",
    "min_li[x]=0\n",
    "q.append(x)\n",
    "while q:\n",
    "    qpop = q.popleft()\n",
    "    for i in di[qpop]:\n",
    "        if min_li[i]==300001:\n",
    "            q.append(i)\n",
    "            min_li[i] = min_li[qpop] + 1"
   ]
  },
  {
   "cell_type": "code",
   "execution_count": 53,
   "id": "a35c6413",
   "metadata": {
    "scrolled": true
   },
   "outputs": [
    {
     "name": "stdout",
     "output_type": "stream",
     "text": [
      "-1\n"
     ]
    }
   ],
   "source": [
    "t=True\n",
    "for i in range(1, n+1):\n",
    "    if min_li[i] == k:\n",
    "        t=False\n",
    "        print(i)\n",
    "if t:\n",
    "    print(-1)"
   ]
  }
 ],
 "metadata": {
  "kernelspec": {
   "display_name": "Python 3",
   "language": "python",
   "name": "python3"
  },
  "language_info": {
   "codemirror_mode": {
    "name": "ipython",
    "version": 3
   },
   "file_extension": ".py",
   "mimetype": "text/x-python",
   "name": "python",
   "nbconvert_exporter": "python",
   "pygments_lexer": "ipython3",
   "version": "3.8.8"
  }
 },
 "nbformat": 4,
 "nbformat_minor": 5
}
