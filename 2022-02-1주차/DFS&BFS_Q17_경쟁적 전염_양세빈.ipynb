{
 "cells": [
  {
   "cell_type": "code",
   "execution_count": 114,
   "id": "7f2454fc",
   "metadata": {
    "scrolled": false
   },
   "outputs": [
    {
     "name": "stdout",
     "output_type": "stream",
     "text": [
      "3 3\n",
      "0 1 0\n",
      "0 0 0\n",
      "0 0 0\n",
      "1 3 3\n"
     ]
    }
   ],
   "source": [
    "n,k = map(int,input().split())\n",
    "li = []\n",
    "virus = [ [] for _ in range(k) ]\n",
    "\n",
    "for i in range(n):\n",
    "    a = list(map(int,input().split()))\n",
    "    li.append(a)\n",
    "    for j in range(n):\n",
    "        if a[j] != 0:\n",
    "            virus[a[j]-1].append([i,j,0])\n",
    "s,x,y = map(int,input().split())"
   ]
  },
  {
   "cell_type": "code",
   "execution_count": 115,
   "id": "7d8b322a",
   "metadata": {},
   "outputs": [],
   "source": [
    "from collections import deque\n",
    "\n",
    "q = deque()\n",
    "\n",
    "for i in virus:\n",
    "    for j in i:\n",
    "        q.append(j)"
   ]
  },
  {
   "cell_type": "code",
   "execution_count": 116,
   "id": "e4f623bb",
   "metadata": {},
   "outputs": [
    {
     "name": "stdout",
     "output_type": "stream",
     "text": [
      "0\n"
     ]
    }
   ],
   "source": [
    "dx = [0,0,-1,1]\n",
    "dy = [-1,1,0,0]\n",
    "count = 0\n",
    "\n",
    "while q:\n",
    "    r,c,depth = q.popleft()\n",
    "    if depth == s:\n",
    "        break\n",
    "    for i in range(4):\n",
    "        nx = c + dx[i]\n",
    "        ny = r + dy[i]\n",
    "        if 0 <= nx < n and 0 <= ny < n:\n",
    "            if li[ny][nx]==0:\n",
    "                li[ny][nx]=li[r][c]\n",
    "                q.append([ny,nx,depth+1])\n",
    "    if li[x-1][y-1]>0:\n",
    "        break    \n",
    "print(li[x-1][y-1])"
   ]
  },
  {
   "cell_type": "code",
   "execution_count": null,
   "id": "38a0a5ad",
   "metadata": {},
   "outputs": [],
   "source": []
  }
 ],
 "metadata": {
  "kernelspec": {
   "display_name": "Python 3",
   "language": "python",
   "name": "python3"
  },
  "language_info": {
   "codemirror_mode": {
    "name": "ipython",
    "version": 3
   },
   "file_extension": ".py",
   "mimetype": "text/x-python",
   "name": "python",
   "nbconvert_exporter": "python",
   "pygments_lexer": "ipython3",
   "version": "3.8.8"
  }
 },
 "nbformat": 4,
 "nbformat_minor": 5
}
