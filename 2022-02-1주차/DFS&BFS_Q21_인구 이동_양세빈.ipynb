{
 "cells": [
  {
   "cell_type": "code",
   "execution_count": 57,
   "id": "b7b9e252",
   "metadata": {
    "scrolled": true
   },
   "outputs": [
    {
     "name": "stdout",
     "output_type": "stream",
     "text": [
      "4 10 50\n"
     ]
    }
   ],
   "source": [
    "n,L,R = map(int,input().split())"
   ]
  },
  {
   "cell_type": "code",
   "execution_count": 73,
   "id": "4bf0d905",
   "metadata": {
    "scrolled": true
   },
   "outputs": [
    {
     "name": "stdout",
     "output_type": "stream",
     "text": [
      "10 100 20 90\n",
      "80 100 60 70\n",
      "70 20 30 40\n",
      "50 20 100 10\n"
     ]
    }
   ],
   "source": [
    "li=[]\n",
    "for i in range(n):\n",
    "    li.append(list(map(int,input().split())))"
   ]
  },
  {
   "cell_type": "code",
   "execution_count": 156,
   "id": "c150c602",
   "metadata": {},
   "outputs": [],
   "source": [
    "from collections import deque\n",
    "def bfs(x,y):\n",
    "    global sum_val, c_val, today\n",
    "    q=deque()\n",
    "    q.append([x,y])\n",
    "    change_li.append([x,y])\n",
    "    sum_val, c_val = li[x][y], 1\n",
    "    while q:\n",
    "        r,c = q.popleft()\n",
    "        visited[r][c] = 1\n",
    "        for i in range(4):\n",
    "            nx = c + dx[i]\n",
    "            ny = r + dy[i]\n",
    "            if 0 <= nx < n and 0 <= ny < n:\n",
    "                if visited[ny][nx]==0:\n",
    "                    if L <= abs(li[r][c]-li[ny][nx]) <= R:\n",
    "                        q.append([ny,nx])\n",
    "                        change_li.append([ny,nx])\n",
    "                        sum_val+=li[ny][nx]\n",
    "                        c_val+=1\n",
    "                        visited[ny][nx] = 1"
   ]
  },
  {
   "cell_type": "code",
   "execution_count": 157,
   "id": "e8c442cc",
   "metadata": {},
   "outputs": [],
   "source": [
    "def change():\n",
    "    for i in change_li:\n",
    "        li[i[0]][i[1]]=(sum_val//c_val)"
   ]
  },
  {
   "cell_type": "code",
   "execution_count": 158,
   "id": "9da9a2b8",
   "metadata": {},
   "outputs": [
    {
     "name": "stdout",
     "output_type": "stream",
     "text": [
      "[[10, 100, 50, 50], [50, 50, 50, 50], [50, 50, 50, 50], [50, 50, 100, 50]] 0\n",
      "[[30, 100, 50, 50], [30, 50, 50, 50], [50, 50, 50, 50], [50, 50, 100, 50]] 1\n",
      "[[30, 66, 66, 50], [30, 66, 50, 50], [50, 50, 50, 50], [50, 50, 100, 50]] 1\n",
      "[[30, 66, 66, 50], [30, 66, 50, 50], [50, 50, 62, 50], [50, 62, 62, 62]] 1\n",
      "[[48, 48, 66, 50], [30, 66, 50, 50], [50, 50, 62, 50], [50, 62, 62, 62]] 2\n",
      "[[48, 48, 54, 54], [54, 54, 54, 50], [54, 54, 54, 54], [54, 54, 62, 54]] 2\n"
     ]
    }
   ],
   "source": [
    "dx = [0,0,-1,1]\n",
    "dy = [-1,1,0,0]\n",
    "count=0\n",
    "\n",
    "while 1:\n",
    "    today=False\n",
    "    visited= [[0]*n for i in range(n)]\n",
    "    for i in range(n):\n",
    "        for j in range(n):\n",
    "            if visited[i][j]==0:\n",
    "                change_li=[]\n",
    "                bfs(i,j)\n",
    "                if c_val > 1:\n",
    "                    change()\n",
    "                    today=True            \n",
    "    if today:\n",
    "        count+=1\n",
    "    else:\n",
    "        break"
   ]
  },
  {
   "cell_type": "code",
   "execution_count": 159,
   "id": "d109ce75",
   "metadata": {},
   "outputs": [
    {
     "data": {
      "text/plain": [
       "3"
      ]
     },
     "execution_count": 159,
     "metadata": {},
     "output_type": "execute_result"
    }
   ],
   "source": [
    "print(count)"
   ]
  },
  {
   "cell_type": "code",
   "execution_count": null,
   "id": "17acab98",
   "metadata": {},
   "outputs": [],
   "source": []
  },
  {
   "cell_type": "code",
   "execution_count": null,
   "id": "c074b3b0",
   "metadata": {},
   "outputs": [],
   "source": []
  },
  {
   "cell_type": "code",
   "execution_count": null,
   "id": "87f2222d",
   "metadata": {},
   "outputs": [],
   "source": []
  },
  {
   "cell_type": "code",
   "execution_count": null,
   "id": "353865c3",
   "metadata": {},
   "outputs": [],
   "source": []
  },
  {
   "cell_type": "code",
   "execution_count": null,
   "id": "ae7a5dd0",
   "metadata": {},
   "outputs": [],
   "source": []
  },
  {
   "cell_type": "code",
   "execution_count": null,
   "id": "57cf9e0b",
   "metadata": {},
   "outputs": [],
   "source": []
  },
  {
   "cell_type": "code",
   "execution_count": null,
   "id": "32e0fb91",
   "metadata": {},
   "outputs": [],
   "source": []
  }
 ],
 "metadata": {
  "kernelspec": {
   "display_name": "Python 3",
   "language": "python",
   "name": "python3"
  },
  "language_info": {
   "codemirror_mode": {
    "name": "ipython",
    "version": 3
   },
   "file_extension": ".py",
   "mimetype": "text/x-python",
   "name": "python",
   "nbconvert_exporter": "python",
   "pygments_lexer": "ipython3",
   "version": "3.8.8"
  }
 },
 "nbformat": 4,
 "nbformat_minor": 5
}
