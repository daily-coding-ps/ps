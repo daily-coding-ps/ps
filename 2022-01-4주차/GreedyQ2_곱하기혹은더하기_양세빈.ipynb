{
 "cells": [
  {
   "cell_type": "code",
   "execution_count": 21,
   "id": "135aa040",
   "metadata": {},
   "outputs": [
    {
     "name": "stdout",
     "output_type": "stream",
     "text": [
      "11\n"
     ]
    }
   ],
   "source": [
    "s = list(map(int,input()))"
   ]
  },
  {
   "cell_type": "code",
   "execution_count": 23,
   "id": "b362b6fe",
   "metadata": {},
   "outputs": [],
   "source": [
    "s.sort()"
   ]
  },
  {
   "cell_type": "code",
   "execution_count": 24,
   "id": "ac37bc95",
   "metadata": {},
   "outputs": [],
   "source": [
    "max_val = 0\n",
    "for i in s:\n",
    "    if max_val==0 or max_val==1 or i==0 or i==1:\n",
    "        max_val += i\n",
    "    else:\n",
    "        max_val *= i"
   ]
  },
  {
   "cell_type": "code",
   "execution_count": 25,
   "id": "b422db08",
   "metadata": {},
   "outputs": [
    {
     "data": {
      "text/plain": [
       "2"
      ]
     },
     "execution_count": 25,
     "metadata": {},
     "output_type": "execute_result"
    }
   ],
   "source": [
    "max_val"
   ]
  }
 ],
 "metadata": {
  "kernelspec": {
   "display_name": "Python 3",
   "language": "python",
   "name": "python3"
  },
  "language_info": {
   "codemirror_mode": {
    "name": "ipython",
    "version": 3
   },
   "file_extension": ".py",
   "mimetype": "text/x-python",
   "name": "python",
   "nbconvert_exporter": "python",
   "pygments_lexer": "ipython3",
   "version": "3.8.8"
  }
 },
 "nbformat": 4,
 "nbformat_minor": 5
}
