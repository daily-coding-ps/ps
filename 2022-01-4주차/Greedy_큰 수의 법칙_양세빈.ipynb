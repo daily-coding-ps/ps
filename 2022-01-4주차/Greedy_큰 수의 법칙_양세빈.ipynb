{
 "cells": [
  {
   "cell_type": "code",
   "execution_count": null,
   "id": "3653a05a",
   "metadata": {},
   "outputs": [],
   "source": [
    "n,m,k = map(int, input().split())\n",
    "data = list(map(int, input().split()))"
   ]
  },
  {
   "cell_type": "code",
   "execution_count": 34,
   "id": "1425d73f",
   "metadata": {},
   "outputs": [],
   "source": [
    "n,m,k = 5,8,3\n",
    "data = [2, 4, 5, 4, 6]"
   ]
  },
  {
   "cell_type": "code",
   "execution_count": 35,
   "id": "d0e42de9",
   "metadata": {},
   "outputs": [],
   "source": [
    "data.sort(reverse = True)\n",
    "max_val=0\n",
    "while m:\n",
    "    if m-k >= 0:\n",
    "        max_val += data[0]*k\n",
    "        m-=k\n",
    "        if m!=0:\n",
    "            max_val += data[1]\n",
    "            m-=1\n",
    "    else:\n",
    "        max_val += max(data)*m\n",
    "        m=0"
   ]
  },
  {
   "cell_type": "code",
   "execution_count": 36,
   "id": "8b04cc49",
   "metadata": {},
   "outputs": [
    {
     "data": {
      "text/plain": [
       "46"
      ]
     },
     "execution_count": 36,
     "metadata": {},
     "output_type": "execute_result"
    }
   ],
   "source": [
    "max_val"
   ]
  }
 ],
 "metadata": {
  "kernelspec": {
   "display_name": "Python 3",
   "language": "python",
   "name": "python3"
  },
  "language_info": {
   "codemirror_mode": {
    "name": "ipython",
    "version": 3
   },
   "file_extension": ".py",
   "mimetype": "text/x-python",
   "name": "python",
   "nbconvert_exporter": "python",
   "pygments_lexer": "ipython3",
   "version": "3.8.8"
  }
 },
 "nbformat": 4,
 "nbformat_minor": 5
}
