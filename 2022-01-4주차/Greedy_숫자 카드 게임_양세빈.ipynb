{
 "cells": [
  {
   "cell_type": "code",
   "execution_count": 23,
   "id": "1a5943a6",
   "metadata": {
    "scrolled": true
   },
   "outputs": [
    {
     "name": "stdout",
     "output_type": "stream",
     "text": [
      "2 4\n",
      "7 3 1 8\n",
      "3 3 3 4\n"
     ]
    }
   ],
   "source": [
    "n, m= map(int,input().split())\n",
    "max_val = -1e9\n",
    "\n",
    "for _ in range(n):\n",
    "    i = list(map(int,input().split()))\n",
    "    i.sort()\n",
    "    max_val = max(min_val, i[0])"
   ]
  },
  {
   "cell_type": "code",
   "execution_count": 24,
   "id": "eb685ec6",
   "metadata": {},
   "outputs": [
    {
     "name": "stdout",
     "output_type": "stream",
     "text": [
      "3\n"
     ]
    }
   ],
   "source": [
    "print(max_val)"
   ]
  },
  {
   "cell_type": "code",
   "execution_count": null,
   "id": "36f805eb",
   "metadata": {},
   "outputs": [],
   "source": []
  }
 ],
 "metadata": {
  "kernelspec": {
   "display_name": "Python 3",
   "language": "python",
   "name": "python3"
  },
  "language_info": {
   "codemirror_mode": {
    "name": "ipython",
    "version": 3
   },
   "file_extension": ".py",
   "mimetype": "text/x-python",
   "name": "python",
   "nbconvert_exporter": "python",
   "pygments_lexer": "ipython3",
   "version": "3.8.8"
  }
 },
 "nbformat": 4,
 "nbformat_minor": 5
}
