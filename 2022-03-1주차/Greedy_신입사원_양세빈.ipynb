{
 "cells": [
  {
   "cell_type": "code",
   "execution_count": 14,
   "id": "11fb3a8f",
   "metadata": {},
   "outputs": [
    {
     "name": "stdout",
     "output_type": "stream",
     "text": [
      "1\n",
      "7\n",
      "3 6\n",
      "7 3\n",
      "4 2\n",
      "1 4\n",
      "5 7\n",
      "2 5\n",
      "6 1\n",
      "3\n"
     ]
    }
   ],
   "source": [
    "import sys\n",
    "input=sys.stdin.readline\n",
    "n=int(input())\n",
    "for i in range(n):\n",
    "    num=int(input())\n",
    "    li= [0]*(num+1)\n",
    "    for i in range(num):\n",
    "        a,b = map(int,input().split())\n",
    "        li[a]=b\n",
    "        \n",
    "    x = li[1]\n",
    "    count=1\n",
    "    for i in li[2:]:\n",
    "        if x > i:\n",
    "            count+=1\n",
    "            x = i\n",
    "    print(count)    \n",
    "        "
   ]
  }
 ],
 "metadata": {
  "kernelspec": {
   "display_name": "Python 3",
   "language": "python",
   "name": "python3"
  },
  "language_info": {
   "codemirror_mode": {
    "name": "ipython",
    "version": 3
   },
   "file_extension": ".py",
   "mimetype": "text/x-python",
   "name": "python",
   "nbconvert_exporter": "python",
   "pygments_lexer": "ipython3",
   "version": "3.8.8"
  }
 },
 "nbformat": 4,
 "nbformat_minor": 5
}
