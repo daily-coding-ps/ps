{
 "cells": [
  {
   "cell_type": "code",
   "execution_count": 21,
   "id": "296013dd",
   "metadata": {},
   "outputs": [
    {
     "name": "stdout",
     "output_type": "stream",
     "text": [
      "100 40021\n"
     ]
    }
   ],
   "source": [
    "a,b = map(int,input().split())"
   ]
  },
  {
   "cell_type": "code",
   "execution_count": 22,
   "id": "2fc16061",
   "metadata": {},
   "outputs": [
    {
     "name": "stdout",
     "output_type": "stream",
     "text": [
      "5\n"
     ]
    }
   ],
   "source": [
    "from collections import deque\n",
    "\n",
    "li=deque()\n",
    "li.append([a,1])\n",
    "t=True\n",
    "while li:\n",
    "    val = li.popleft()\n",
    "    result1,result2 = val[0]*2, (val[0]*10)+1\n",
    "    if result1 <= b:\n",
    "        li.append([result1,val[1]+1])\n",
    "    if result2 <= b:\n",
    "        li.append([result2,val[1]+1])\n",
    "    if result1 == b:\n",
    "        t=False\n",
    "        print(val[1]+1)\n",
    "        break\n",
    "    if result2 == b:\n",
    "        t=False\n",
    "        print(val[1]+1)\n",
    "        break\n",
    "if t:\n",
    "    print(-1)"
   ]
  },
  {
   "cell_type": "code",
   "execution_count": null,
   "id": "43295f46",
   "metadata": {},
   "outputs": [],
   "source": []
  }
 ],
 "metadata": {
  "kernelspec": {
   "display_name": "Python 3",
   "language": "python",
   "name": "python3"
  },
  "language_info": {
   "codemirror_mode": {
    "name": "ipython",
    "version": 3
   },
   "file_extension": ".py",
   "mimetype": "text/x-python",
   "name": "python",
   "nbconvert_exporter": "python",
   "pygments_lexer": "ipython3",
   "version": "3.8.8"
  }
 },
 "nbformat": 4,
 "nbformat_minor": 5
}
