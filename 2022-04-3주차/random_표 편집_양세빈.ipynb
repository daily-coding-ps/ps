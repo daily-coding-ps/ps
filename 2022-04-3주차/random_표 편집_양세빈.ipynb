{
 "cells": [
  {
   "cell_type": "code",
   "execution_count": null,
   "id": "3202beff",
   "metadata": {},
   "outputs": [],
   "source": [
    "# 끝까지 오류나서 찾아보면서 풀었슴다..."
   ]
  },
  {
   "cell_type": "code",
   "execution_count": 117,
   "id": "0cc224e0",
   "metadata": {},
   "outputs": [],
   "source": [
    "n=8\n",
    "k=2\n",
    "cmd=[\"D 2\",\"C\",\"U 3\",\"C\",\"D 4\",\"C\",\"U 2\",\"Z\",\"Z\"]"
   ]
  },
  {
   "cell_type": "code",
   "execution_count": 189,
   "id": "233d3d2f",
   "metadata": {},
   "outputs": [],
   "source": [
    "def solution(n, k, cmd):\n",
    "    node = {i: [i - 1, i + 1] for i in range(1, n+1)}\n",
    "    mem = []\n",
    "    li = [\"O\" for i in range(1,n+1)]\n",
    "    k += 1\n",
    "\n",
    "    for c in cmd:\n",
    "        if c[0] == 'D':\n",
    "            for _ in range(int(c[2:])):\n",
    "                k = node[k][1]\n",
    "        elif c[0] == 'U':\n",
    "            for _ in range(int(c[2:])):\n",
    "                k = node[k][0]\n",
    "        elif c[0] == 'C':\n",
    "            prev, next = node[k]\n",
    "            mem.append([prev, next, k])\n",
    "            li[k-1] = \"X\"\n",
    "\n",
    "            if next == n+1:\n",
    "                k = node[k][0]\n",
    "            else:\n",
    "                k = node[k][1]\n",
    "\n",
    "            if prev == 0:\n",
    "                node[next][0] = prev\n",
    "            elif next == n+1:\n",
    "                node[prev][1] = next\n",
    "            else:\n",
    "                node[prev][1] = next\n",
    "                node[next][0] = prev\n",
    "\n",
    "\n",
    "        elif c[0] == 'Z':\n",
    "            prev, next, now = mem.pop()\n",
    "            li[now-1] = \"O\"\n",
    "\n",
    "            if prev == 0:\n",
    "                node[next][0] = now\n",
    "            elif next == n+1:\n",
    "                node[prev][1] = now\n",
    "            else:\n",
    "                node[prev][1] = now\n",
    "                node[next][0] = now\n",
    "\n",
    "    return \"\".join(li)"
   ]
  },
  {
   "cell_type": "code",
   "execution_count": 190,
   "id": "08a8844a",
   "metadata": {},
   "outputs": [
    {
     "data": {
      "text/plain": [
       "'OOOOXOOO'"
      ]
     },
     "execution_count": 190,
     "metadata": {},
     "output_type": "execute_result"
    }
   ],
   "source": [
    "solution(n, k, cmd)"
   ]
  },
  {
   "cell_type": "code",
   "execution_count": null,
   "id": "d27be58e",
   "metadata": {},
   "outputs": [],
   "source": []
  }
 ],
 "metadata": {
  "kernelspec": {
   "display_name": "Python 3",
   "language": "python",
   "name": "python3"
  },
  "language_info": {
   "codemirror_mode": {
    "name": "ipython",
    "version": 3
   },
   "file_extension": ".py",
   "mimetype": "text/x-python",
   "name": "python",
   "nbconvert_exporter": "python",
   "pygments_lexer": "ipython3",
   "version": "3.8.8"
  }
 },
 "nbformat": 4,
 "nbformat_minor": 5
}
