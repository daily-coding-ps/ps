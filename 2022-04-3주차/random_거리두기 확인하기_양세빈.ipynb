{
 "cells": [
  {
   "cell_type": "code",
   "execution_count": null,
   "id": "badee009",
   "metadata": {},
   "outputs": [],
   "source": [
    "from collections import deque\n",
    "def solution(places):\n",
    "    dx = [0,0,-1,1]\n",
    "    dy = [-1,1,0,0]\n",
    "    answer=[]\n",
    "    \n",
    "    for place in places:\n",
    "        person=[]\n",
    "        t=False\n",
    "        for i in range(5):\n",
    "            for j in range(5):\n",
    "                if place[i][j]=='P':\n",
    "                    person.append([i,j])\n",
    "\n",
    "        for i in range(len(person)-1):\n",
    "            for j in range(i+1,len(person)):\n",
    "                if abs(person[i][0]-person[j][0])+abs(person[i][1]-person[j][1]) < 3:\n",
    "                    q = deque()\n",
    "                    q.append(person[i])\n",
    "                    li = [ [0]*5 for _ in range(5) ]\n",
    "                    while q:\n",
    "                        v = q.pop()\n",
    "                        if li[person[j][0]][person[j][1]]>0:\n",
    "                            break\n",
    "                        for k in range(4):\n",
    "                            nx = v[0]+dx[k]\n",
    "                            ny = v[1]+dy[k]\n",
    "                            if 0 <= nx < 5 and 0 <= ny <5:\n",
    "                                if li[nx][ny]==0 and place[nx][ny]!='X':\n",
    "                                    li[nx][ny]=li[v[0]][v[1]]+1\n",
    "                                    q.append([nx,ny])\n",
    "                    if 0 < li[person[j][0]][person[j][1]] < 3:\n",
    "                        t=True\n",
    "                        break\n",
    "        if t:\n",
    "            answer.append(0)\n",
    "        else:\n",
    "            answer.append(1)\n",
    "    return answer"
   ]
  }
 ],
 "metadata": {
  "kernelspec": {
   "display_name": "Python 3",
   "language": "python",
   "name": "python3"
  },
  "language_info": {
   "codemirror_mode": {
    "name": "ipython",
    "version": 3
   },
   "file_extension": ".py",
   "mimetype": "text/x-python",
   "name": "python",
   "nbconvert_exporter": "python",
   "pygments_lexer": "ipython3",
   "version": "3.8.8"
  }
 },
 "nbformat": 4,
 "nbformat_minor": 5
}
