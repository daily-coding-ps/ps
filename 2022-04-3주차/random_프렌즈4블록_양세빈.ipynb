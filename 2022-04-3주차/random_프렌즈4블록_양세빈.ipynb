{
 "cells": [
  {
   "cell_type": "code",
   "execution_count": 213,
   "id": "d38512ea",
   "metadata": {},
   "outputs": [],
   "source": [
    "n,m=5,8\n",
    "board=[\"HGNHU\", \"CRSHV\", \"UKHVL\", \"MJHQB\", \"GSHOT\", \"MQMJJ\", \"AGJKK\", \"QULKK\"]"
   ]
  },
  {
   "cell_type": "code",
   "execution_count": 214,
   "id": "4a2ab3fc",
   "metadata": {},
   "outputs": [],
   "source": [
    "for i in range(len(board)):\n",
    "    board[i]=list(board[i])"
   ]
  },
  {
   "cell_type": "code",
   "execution_count": 215,
   "id": "1a6b12d7",
   "metadata": {},
   "outputs": [],
   "source": [
    "li=[[0]*n for _ in range(m)]    # 빈공간이 되야할 ( 제거해야할 블럭 체크 )\n",
    "\n",
    "t=True\n",
    "\n",
    "while t:\n",
    "    t=False\n",
    "    # 블럭 제거\n",
    "    for i in range(m-1):\n",
    "        for j in range(n-1):\n",
    "            if board[i][j]!=0:  # 블럭이 존재할때만\n",
    "                if board[i][j]==board[i+1][j] == board[i][j+1]==board[i+1][j+1]:\n",
    "                    li[i][j],li[i+1][j],li[i][j+1],li[i+1][j+1]=1,1,1,1    # 블럭 4개가 같다면 li의 해당위치 값을 1로 변경\n",
    "                    t=True                                                 # 한번이라도 블럭이 같은게 존재했다는 의미\n",
    "    # 블럭 내리기\n",
    "    for i in range(n):\n",
    "        for j in range(m-1,-1,-1): # 맨아래부터 탐색합니다. (빈공간이 생기면 위에 블럭중 아래에 있는 블럭부터 공간을 매우니까)\n",
    "            if li[j][i]==0: # 제거된 블럭이 아니라면\n",
    "                for k in range(m-1,j,-1):  # 해당 블럭보다 아래에 빈공간이 있는지 탐색합니다. (이때도 마찬가지로 아래부터 탐색)\n",
    "                    if li[k][i]==1:        # 빈공간이 되야할 블럭을 발견힌다면\n",
    "                        board[k][i]=board[j][i]     # 자신의 블럭을 빈공간이 되야할 블럭의 위치로 이동시킴\n",
    "                        board[j][i]=0              # 그리고 자신의 공간은 비움\n",
    "                        li[j][i]=1         # 자신의 공간이 비워졌으니 값을 1로 변경\n",
    "                        li[k][i]=0         # 빈공간이 채워졌으니 값을 0으로 다시 변경\n",
    "                        break\n",
    "                        \n",
    "    # 현재 빈공간이 되야할 애들만 체크해두기만 했고 아직 제거는 안했으니 나머지 제거\n",
    "    for i in range(m):\n",
    "        for j in range(n):\n",
    "            if li[i][j]==1:\n",
    "                li[i][j]=0\n",
    "                board[i][j]=0"
   ]
  },
  {
   "cell_type": "code",
   "execution_count": 216,
   "id": "9dfe2dcd",
   "metadata": {},
   "outputs": [],
   "source": [
    "c=0\n",
    "for i in range(m):\n",
    "    for j in range(n):\n",
    "        if board[i][j]==0:\n",
    "            c+=1"
   ]
  },
  {
   "cell_type": "code",
   "execution_count": 217,
   "id": "8026ec2f",
   "metadata": {},
   "outputs": [
    {
     "data": {
      "text/plain": [
       "8"
      ]
     },
     "execution_count": 217,
     "metadata": {},
     "output_type": "execute_result"
    }
   ],
   "source": [
    "c"
   ]
  },
  {
   "cell_type": "code",
   "execution_count": null,
   "id": "60e0d922",
   "metadata": {},
   "outputs": [],
   "source": []
  },
  {
   "cell_type": "code",
   "execution_count": null,
   "id": "634b240e",
   "metadata": {},
   "outputs": [],
   "source": []
  },
  {
   "cell_type": "code",
   "execution_count": null,
   "id": "868c3e86",
   "metadata": {},
   "outputs": [],
   "source": []
  },
  {
   "cell_type": "code",
   "execution_count": null,
   "id": "67a5fac0",
   "metadata": {},
   "outputs": [],
   "source": [
    "def solution(m, n, board):\n",
    "    for i in range(len(board)):\n",
    "        board[i]=list(board[i])\n",
    "        \n",
    "    li=[[0]*n for _ in range(m)]\n",
    "\n",
    "    t=True\n",
    "\n",
    "    while t:\n",
    "        t=False\n",
    "        for i in range(m-1):\n",
    "            for j in range(n-1):\n",
    "                if board[i][j]!=0:\n",
    "                    if board[i][j]==board[i+1][j] and board[i][j+1]==board[i+1][j+1] and board[i][j]==board[i+1][j+1]:\n",
    "                        li[i][j],li[i+1][j],li[i][j+1],li[i+1][j+1]=1,1,1,1\n",
    "                        t=True           \n",
    "        for i in range(n):\n",
    "            for j in range(m-1,-1,-1):\n",
    "                if li[j][i]==0:\n",
    "                    for k in range(m-1,j,-1): \n",
    "                        if li[k][i]==1:\n",
    "                            board[k][i]=board[j][i]\n",
    "                            board[j][i]=0\n",
    "                            li[j][i]=1\n",
    "                            li[k][i]=0\n",
    "                            break\n",
    "        for i in range(m):\n",
    "            for j in range(n):\n",
    "                if li[i][j]==1:\n",
    "                    li[i][j]=0\n",
    "                    board[i][j]=0\n",
    "    c=0\n",
    "    for i in range(m):\n",
    "        for j in range(n):\n",
    "            if board[i][j]==0:\n",
    "                c+=1    \n",
    "    return c"
   ]
  }
 ],
 "metadata": {
  "kernelspec": {
   "display_name": "Python 3",
   "language": "python",
   "name": "python3"
  },
  "language_info": {
   "codemirror_mode": {
    "name": "ipython",
    "version": 3
   },
   "file_extension": ".py",
   "mimetype": "text/x-python",
   "name": "python",
   "nbconvert_exporter": "python",
   "pygments_lexer": "ipython3",
   "version": "3.8.8"
  }
 },
 "nbformat": 4,
 "nbformat_minor": 5
}
