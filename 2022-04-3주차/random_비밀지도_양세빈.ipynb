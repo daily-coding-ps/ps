{
 "cells": [
  {
   "cell_type": "code",
   "execution_count": 17,
   "id": "e9f97bfa",
   "metadata": {},
   "outputs": [],
   "source": [
    "n=5\n",
    "arr1=[9, 20, 28, 18, 11]\n",
    "arr2=[30, 1, 21, 17, 28]"
   ]
  },
  {
   "cell_type": "code",
   "execution_count": 43,
   "id": "b5f397b5",
   "metadata": {},
   "outputs": [],
   "source": [
    "def m(arr):\n",
    "    for x in range(n):\n",
    "        idx=n\n",
    "        while arr[x]>=1:\n",
    "            idx-=1\n",
    "            if arr[x]%2==1:\n",
    "                li[x][idx]=\"#\"        \n",
    "            arr[x]=arr[x]//2"
   ]
  },
  {
   "cell_type": "code",
   "execution_count": 57,
   "id": "e736f4fa",
   "metadata": {},
   "outputs": [],
   "source": [
    "li=[[\" \"]*n for _ in range(n)]\n",
    "\n",
    "m(arr1)\n",
    "m(arr2)"
   ]
  },
  {
   "cell_type": "code",
   "execution_count": 63,
   "id": "673a9541",
   "metadata": {},
   "outputs": [],
   "source": [
    "answer=[]\n",
    "for i in li:\n",
    "    answer.append(\"\".join(i))"
   ]
  },
  {
   "cell_type": "code",
   "execution_count": 64,
   "id": "190b4bd7",
   "metadata": {},
   "outputs": [
    {
     "data": {
      "text/plain": [
       "['#####', '# # #', '### #', '#  ##', '#####']"
      ]
     },
     "execution_count": 64,
     "metadata": {},
     "output_type": "execute_result"
    }
   ],
   "source": [
    "answer"
   ]
  },
  {
   "cell_type": "code",
   "execution_count": null,
   "id": "9886baf6",
   "metadata": {},
   "outputs": [],
   "source": []
  },
  {
   "cell_type": "code",
   "execution_count": null,
   "id": "5d415bab",
   "metadata": {},
   "outputs": [],
   "source": [
    "def solution(n, arr1, arr2):\n",
    "    def m(arr):\n",
    "        for x in range(n):\n",
    "            idx=n\n",
    "            while arr[x]>=1:\n",
    "                idx-=1\n",
    "                if arr[x]%2==1:\n",
    "                    li[x][idx]=\"#\"        \n",
    "                arr[x]=arr[x]//2\n",
    "\n",
    "    li=[[\" \"]*n for _ in range(n)]\n",
    "\n",
    "    m(arr1)\n",
    "    m(arr2)\n",
    "\n",
    "    answer=[]\n",
    "    for i in li:\n",
    "        answer.append(\"\".join(i))\n",
    "\n",
    "    return answer"
   ]
  }
 ],
 "metadata": {
  "kernelspec": {
   "display_name": "Python 3",
   "language": "python",
   "name": "python3"
  },
  "language_info": {
   "codemirror_mode": {
    "name": "ipython",
    "version": 3
   },
   "file_extension": ".py",
   "mimetype": "text/x-python",
   "name": "python",
   "nbconvert_exporter": "python",
   "pygments_lexer": "ipython3",
   "version": "3.8.8"
  }
 },
 "nbformat": 4,
 "nbformat_minor": 5
}
