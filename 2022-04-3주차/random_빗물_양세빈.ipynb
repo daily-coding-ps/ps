{
 "cells": [
  {
   "cell_type": "code",
   "execution_count": null,
   "id": "3d8e642b",
   "metadata": {},
   "outputs": [],
   "source": [
    "100 18\n",
    "28 100 43 33 37 100 87 15 52 35 54 86 60 24 99 56 4 40"
   ]
  },
  {
   "cell_type": "code",
   "execution_count": 2,
   "id": "54e95a7b",
   "metadata": {},
   "outputs": [
    {
     "name": "stdout",
     "output_type": "stream",
     "text": [
      "100 18\n",
      "28 100 43 33 37 100 87 15 52 35 54 86 60 24 99 56 4 40\n"
     ]
    }
   ],
   "source": [
    "h,w = map(int,input().split())\n",
    "\n",
    "h_list = list(map(int,input().split()))\n",
    "\n",
    "graph = [[0]*w for i in range(h)]\n",
    "for i in range(h):\n",
    "    for j in range(w):\n",
    "        if h_list[j]>0:\n",
    "            graph[i][j]=1\n",
    "            h_list[j]-=1"
   ]
  },
  {
   "cell_type": "code",
   "execution_count": 3,
   "id": "54acc934",
   "metadata": {},
   "outputs": [
    {
     "name": "stdout",
     "output_type": "stream",
     "text": [
      "602\n"
     ]
    }
   ],
   "source": [
    "rain = 0\n",
    "for i in range(h):\n",
    "    r=False\n",
    "    count=0\n",
    "    for j in range(w-1):\n",
    "        if graph[i][j]==1 and r==False and count==0:\n",
    "            r = True\n",
    "        elif graph[i][j]==0:\n",
    "            count +=1\n",
    "            graph[i][j]=1\n",
    "            if graph[i][j+1]==1:\n",
    "                if r==True:\n",
    "                    rain += count\n",
    "                count=0\n",
    "print(rain)"
   ]
  },
  {
   "cell_type": "code",
   "execution_count": null,
   "id": "82bd6217",
   "metadata": {},
   "outputs": [],
   "source": []
  }
 ],
 "metadata": {
  "kernelspec": {
   "display_name": "Python 3",
   "language": "python",
   "name": "python3"
  },
  "language_info": {
   "codemirror_mode": {
    "name": "ipython",
    "version": 3
   },
   "file_extension": ".py",
   "mimetype": "text/x-python",
   "name": "python",
   "nbconvert_exporter": "python",
   "pygments_lexer": "ipython3",
   "version": "3.8.8"
  }
 },
 "nbformat": 4,
 "nbformat_minor": 5
}
