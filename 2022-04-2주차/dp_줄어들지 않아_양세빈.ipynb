{
 "cells": [
  {
   "cell_type": "code",
   "execution_count": 9,
   "id": "105fada0",
   "metadata": {},
   "outputs": [],
   "source": [
    "li = [[1]+[0]*9 for _ in range(65)]\n",
    "li[0]=[1,2,3,4,5,6,7,8,9,10]"
   ]
  },
  {
   "cell_type": "code",
   "execution_count": 10,
   "id": "ac7357cc",
   "metadata": {},
   "outputs": [],
   "source": [
    "for i in range(1,65):\n",
    "    for j in range(1,10):\n",
    "        li[i][j]=li[i][j-1]+li[i-1][j]"
   ]
  },
  {
   "cell_type": "code",
   "execution_count": 13,
   "id": "343cd2f3",
   "metadata": {},
   "outputs": [
    {
     "name": "stdout",
     "output_type": "stream",
     "text": [
      "3\n",
      "2\n",
      "55\n",
      "3\n",
      "220\n",
      "4\n",
      "715\n"
     ]
    }
   ],
   "source": [
    "n = int(input())\n",
    "for _ in range(n):\n",
    "    num = int(input())\n",
    "    print(li[num-1][9])"
   ]
  },
  {
   "cell_type": "code",
   "execution_count": null,
   "id": "656d8bc9",
   "metadata": {},
   "outputs": [],
   "source": []
  },
  {
   "cell_type": "code",
   "execution_count": null,
   "id": "e4018723",
   "metadata": {},
   "outputs": [],
   "source": []
  }
 ],
 "metadata": {
  "kernelspec": {
   "display_name": "Python 3",
   "language": "python",
   "name": "python3"
  },
  "language_info": {
   "codemirror_mode": {
    "name": "ipython",
    "version": 3
   },
   "file_extension": ".py",
   "mimetype": "text/x-python",
   "name": "python",
   "nbconvert_exporter": "python",
   "pygments_lexer": "ipython3",
   "version": "3.8.8"
  }
 },
 "nbformat": 4,
 "nbformat_minor": 5
}
