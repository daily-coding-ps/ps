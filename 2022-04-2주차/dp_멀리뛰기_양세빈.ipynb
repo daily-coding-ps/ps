{
 "cells": [
  {
   "cell_type": "code",
   "execution_count": 7,
   "id": "2527932b",
   "metadata": {},
   "outputs": [],
   "source": [
    "n=8\n",
    "li=[1,2]+[0]*(n-2)\n",
    "\n",
    "for i in range(2,n):\n",
    "    li[i]=li[i-1]+li[i-2]"
   ]
  },
  {
   "cell_type": "code",
   "execution_count": 10,
   "id": "15464aa4",
   "metadata": {},
   "outputs": [
    {
     "name": "stdout",
     "output_type": "stream",
     "text": [
      "34\n"
     ]
    }
   ],
   "source": [
    "print(li[n-1]%1234567)"
   ]
  },
  {
   "cell_type": "code",
   "execution_count": null,
   "id": "122fcc2a",
   "metadata": {},
   "outputs": [],
   "source": []
  },
  {
   "cell_type": "code",
   "execution_count": null,
   "id": "80a40a37",
   "metadata": {},
   "outputs": [],
   "source": []
  },
  {
   "cell_type": "code",
   "execution_count": null,
   "id": "6286c02c",
   "metadata": {},
   "outputs": [],
   "source": [
    "def solution(n):\n",
    "    li=[1,2]+[0]*(n-2)\n",
    "\n",
    "    for i in range(2,n):\n",
    "        li[i]=li[i-1]+li[i-2]\n",
    "    return li[n-1]%1234567"
   ]
  }
 ],
 "metadata": {
  "kernelspec": {
   "display_name": "Python 3",
   "language": "python",
   "name": "python3"
  },
  "language_info": {
   "codemirror_mode": {
    "name": "ipython",
    "version": 3
   },
   "file_extension": ".py",
   "mimetype": "text/x-python",
   "name": "python",
   "nbconvert_exporter": "python",
   "pygments_lexer": "ipython3",
   "version": "3.8.8"
  }
 },
 "nbformat": 4,
 "nbformat_minor": 5
}
