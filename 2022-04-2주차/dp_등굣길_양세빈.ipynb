{
 "cells": [
  {
   "cell_type": "code",
   "execution_count": null,
   "id": "c36d178a",
   "metadata": {},
   "outputs": [],
   "source": [
    "def solution(m, n, puddles):\n",
    "    li = [[-1]*m for _ in range(n)]\n",
    "\n",
    "    for i in puddles:\n",
    "        li[i[1]-1][i[0]-1]=0\n",
    "    li[0][0]=1\n",
    "    for i in range(1,n):\n",
    "        if li[i][0]==-1:\n",
    "            li[i][0]=li[i-1][0]\n",
    "    for i in range(1,m):\n",
    "        if li[0][i]==-1:\n",
    "            li[0][i]=li[0][i-1]\n",
    "\n",
    "    for i in range(1,n):\n",
    "        for j in range(1,m):\n",
    "            if li[i][j]==-1:\n",
    "                li[i][j] = li[i-1][j]+li[i][j-1]\n",
    "    return li[n-1][m-1]%1000000007"
   ]
  }
 ],
 "metadata": {
  "kernelspec": {
   "display_name": "Python 3",
   "language": "python",
   "name": "python3"
  },
  "language_info": {
   "codemirror_mode": {
    "name": "ipython",
    "version": 3
   },
   "file_extension": ".py",
   "mimetype": "text/x-python",
   "name": "python",
   "nbconvert_exporter": "python",
   "pygments_lexer": "ipython3",
   "version": "3.8.8"
  }
 },
 "nbformat": 4,
 "nbformat_minor": 5
}
