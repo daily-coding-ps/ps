{
 "cells": [
  {
   "cell_type": "code",
   "execution_count": 154,
   "id": "b024b814",
   "metadata": {
    "scrolled": false
   },
   "outputs": [
    {
     "name": "stdout",
     "output_type": "stream",
     "text": [
      "1 1\n"
     ]
    }
   ],
   "source": [
    "a,b=map(int, input().split())"
   ]
  },
  {
   "cell_type": "code",
   "execution_count": 155,
   "id": "1f38abfb",
   "metadata": {
    "scrolled": false
   },
   "outputs": [
    {
     "name": "stdout",
     "output_type": "stream",
     "text": [
      "1\n"
     ]
    }
   ],
   "source": [
    "li=[]\n",
    "for _ in range(a):\n",
    "    li.append(input())"
   ]
  },
  {
   "cell_type": "code",
   "execution_count": 159,
   "id": "d299e9c2",
   "metadata": {},
   "outputs": [],
   "source": [
    "box = [[0]*b for _ in range(a)]\n",
    "max_val=0\n",
    "for i in range(a):\n",
    "    for j in range(b):\n",
    "        if li[i][j]==\"1\":\n",
    "            box[i][j]=1\n",
    "            if 0<=i-1 and 0<=j-1:\n",
    "                if box[i-1][j-1]>0 and box[i][j-1]>0 and box[i-1][j]>0:\n",
    "                    box[i][j]=min(box[i][j-1],box[i-1][j],box[i-1][j-1])+1\n",
    "            max_val=max(box[i][j],max_val)"
   ]
  },
  {
   "cell_type": "code",
   "execution_count": 160,
   "id": "e1872cc6",
   "metadata": {},
   "outputs": [
    {
     "name": "stdout",
     "output_type": "stream",
     "text": [
      "1\n"
     ]
    }
   ],
   "source": [
    "print(max_val*max_val)"
   ]
  },
  {
   "cell_type": "code",
   "execution_count": null,
   "id": "264ffdd5",
   "metadata": {},
   "outputs": [],
   "source": []
  }
 ],
 "metadata": {
  "kernelspec": {
   "display_name": "Python 3",
   "language": "python",
   "name": "python3"
  },
  "language_info": {
   "codemirror_mode": {
    "name": "ipython",
    "version": 3
   },
   "file_extension": ".py",
   "mimetype": "text/x-python",
   "name": "python",
   "nbconvert_exporter": "python",
   "pygments_lexer": "ipython3",
   "version": "3.8.8"
  }
 },
 "nbformat": 4,
 "nbformat_minor": 5
}
