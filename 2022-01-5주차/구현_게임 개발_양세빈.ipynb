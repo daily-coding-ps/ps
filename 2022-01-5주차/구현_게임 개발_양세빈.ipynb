{
 "cells": [
  {
   "cell_type": "code",
   "execution_count": 72,
   "id": "1204a254",
   "metadata": {},
   "outputs": [
    {
     "name": "stdout",
     "output_type": "stream",
     "text": [
      "4 4\n",
      "1 1 0\n",
      "1 1 1 1\n",
      "1 0 0 1\n",
      "1 1 0 1\n",
      "1 1 1 1\n"
     ]
    }
   ],
   "source": [
    "n,m = map(int,input().split())\n",
    "\n",
    "r,c,d = map(int,input().split())\n",
    "\n",
    "graph=[]\n",
    "for i in range(n):\n",
    "    graph.append(list(map(int,input().split())))"
   ]
  },
  {
   "cell_type": "code",
   "execution_count": 73,
   "id": "504ab46c",
   "metadata": {},
   "outputs": [],
   "source": [
    "dx=[0,1,0,-1] # 북 동 남 서 \n",
    "dy=[-1,0,1,0]"
   ]
  },
  {
   "cell_type": "code",
   "execution_count": 74,
   "id": "2e97e8b7",
   "metadata": {},
   "outputs": [],
   "source": [
    "def move(r,c,d):\n",
    "    global visited\n",
    "    \n",
    "    if r<=0 or r>=n-1 or c<=0 or c>=m-1:\n",
    "        return\n",
    "    \n",
    "    \n",
    "    graph[r][c]=2\n",
    "    \n",
    "    if graph[r+1][c]>0 and graph[r-1][c]>0 and graph[r][c+1]>0 and graph[r][c-1]>0:\n",
    "        ny = r+dy[(d+2)%4]\n",
    "        nx = c+dx[(d+2)%4]\n",
    "        if graph[ny][nx]==1:\n",
    "            return\n",
    "        else:\n",
    "            visited += 1\n",
    "            move(ny,nx,d)\n",
    "    else:\n",
    "        d=(d+3)%4\n",
    "        ny = r+dy[d]\n",
    "        nx = c+dx[d]\n",
    "        if graph[ny][nx]==0:\n",
    "            visited += 1\n",
    "            move(ny,nx,d)\n",
    "        else:\n",
    "            move(r,c,d)"
   ]
  },
  {
   "cell_type": "code",
   "execution_count": 75,
   "id": "3702440f",
   "metadata": {},
   "outputs": [
    {
     "name": "stdout",
     "output_type": "stream",
     "text": [
      "3\n"
     ]
    }
   ],
   "source": [
    "visited=0\n",
    "move(1,1,0)\n",
    "print(visited)"
   ]
  }
 ],
 "metadata": {
  "kernelspec": {
   "display_name": "Python 3",
   "language": "python",
   "name": "python3"
  },
  "language_info": {
   "codemirror_mode": {
    "name": "ipython",
    "version": 3
   },
   "file_extension": ".py",
   "mimetype": "text/x-python",
   "name": "python",
   "nbconvert_exporter": "python",
   "pygments_lexer": "ipython3",
   "version": "3.8.8"
  }
 },
 "nbformat": 4,
 "nbformat_minor": 5
}
