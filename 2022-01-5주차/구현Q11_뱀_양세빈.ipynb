{
 "cells": [
  {
   "cell_type": "code",
   "execution_count": 116,
   "id": "51176bf8",
   "metadata": {},
   "outputs": [
    {
     "name": "stdout",
     "output_type": "stream",
     "text": [
      "10\n",
      "4\n",
      "1 2\n",
      "1 3\n",
      "1 4\n",
      "1 5\n",
      "4\n",
      "8 D\n",
      "10 D\n",
      "11 D\n",
      "13 L\n"
     ]
    }
   ],
   "source": [
    "n = int(input())\n",
    "k = int(input())\n",
    "li, rot = [],[]\n",
    "graph = [[0]*n for _ in range(n)]\n",
    "for _ in range(k):\n",
    "    r,c = map(int,input().split())\n",
    "    graph[r-1][c-1] = 2\n",
    "l = int(input())\n",
    "for _ in range(l):\n",
    "    x,c = input().split()\n",
    "    rot.append([int(x),c])"
   ]
  },
  {
   "cell_type": "code",
   "execution_count": 117,
   "id": "41fcd5e0",
   "metadata": {},
   "outputs": [],
   "source": [
    "from collections import deque\n",
    "q_tail=deque()"
   ]
  },
  {
   "cell_type": "code",
   "execution_count": 118,
   "id": "32d9df14",
   "metadata": {},
   "outputs": [],
   "source": [
    "count=0\n",
    "di,r,c,tail_r,tail_c=0,0,0,0,0\n",
    "def move():\n",
    "    global di,count,r,c,tail_r,tail_c\n",
    "    r += dy[di]\n",
    "    c += dx[di]\n",
    "    if r < 0 or r >= n or c < 0 or c >= n:\n",
    "        return True\n",
    "    if graph[r][c]==2:\n",
    "        graph[r][c]=1\n",
    "        count+=1\n",
    "        q_tail.append(di)\n",
    "    elif graph[r][c]==1:\n",
    "        return True\n",
    "    else:\n",
    "        graph[r][c]=1\n",
    "        q_tail.append(di)\n",
    "        di_t=q_tail.popleft()\n",
    "        graph[tail_r][tail_c] = 0\n",
    "        tail_r += dy[di_t]\n",
    "        tail_c += dx[di_t]\n",
    "        count+=1\n",
    "\n",
    "def snake():\n",
    "    global di,count,r,c,tail_r,tail_c\n",
    "    di=1\n",
    "    for i in rot:\n",
    "        for _ in range(i[0]-count):\n",
    "            if move()==True:\n",
    "                return count+1\n",
    "        if i[1]=='D':\n",
    "            di= (di+1)%4\n",
    "        else:\n",
    "            di = (di+3)%4\n",
    "    while 1:\n",
    "        if move()==True:\n",
    "            return count+1"
   ]
  },
  {
   "cell_type": "code",
   "execution_count": 119,
   "id": "62c8dbfa",
   "metadata": {
    "scrolled": true
   },
   "outputs": [
    {
     "data": {
      "text/plain": [
       "21"
      ]
     },
     "execution_count": 119,
     "metadata": {},
     "output_type": "execute_result"
    }
   ],
   "source": [
    "dx=[0,1,0,-1]\n",
    "dy=[-1,0,1,0]\n",
    "graph[0][0]=1\n",
    "snake()"
   ]
  },
  {
   "cell_type": "code",
   "execution_count": null,
   "id": "a9fb7b6a",
   "metadata": {},
   "outputs": [],
   "source": [
    "##### 제출코드"
   ]
  },
  {
   "cell_type": "code",
   "execution_count": null,
   "id": "15e71d1a",
   "metadata": {},
   "outputs": [],
   "source": [
    "n = int(input())\n",
    "k = int(input())\n",
    "li, rot = [],[]\n",
    "graph = [[0]*n for _ in range(n)]\n",
    "for _ in range(k):\n",
    "    r,c = map(int,input().split())\n",
    "    graph[r-1][c-1] = 2\n",
    "l = int(input())\n",
    "for _ in range(l):\n",
    "    x,c = input().split()\n",
    "    rot.append([int(x),c])\n",
    "\n",
    "from collections import deque\n",
    "q_tail=deque()\n",
    "\n",
    "count=0\n",
    "def snake():\n",
    "    global count\n",
    "    di=1\n",
    "    r,c=0,0\n",
    "    tail_r,tail_c=0,0\n",
    "    for i in rot:\n",
    "        for _ in range(i[0]-count):\n",
    "            r += dy[di]\n",
    "            c += dx[di]\n",
    "            if r < 0 or r >= n or c < 0 or c >= n:\n",
    "                return count+1\n",
    "            if graph[r][c]==2:\n",
    "                graph[r][c]=1\n",
    "                count+=1\n",
    "                q_tail.append(di)\n",
    "            elif graph[r][c]==1:\n",
    "                return count+1\n",
    "                break\n",
    "            else:\n",
    "                graph[r][c]=1\n",
    "                q_tail.append(di)\n",
    "                di_t=q_tail.popleft()\n",
    "                graph[tail_r][tail_c] = 0\n",
    "                tail_r += dy[di_t]\n",
    "                tail_c += dx[di_t]\n",
    "                count+=1\n",
    "        \n",
    "        if i[1]=='D':\n",
    "            di= (di+1)%4\n",
    "        else:\n",
    "            di = (di+3)%4\n",
    "    while 1:\n",
    "        r += dy[di]\n",
    "        c += dx[di]\n",
    "        if r < 0 or r >= n or c < 0 or c >= n:\n",
    "            return count+1\n",
    "        if graph[r][c]==2:\n",
    "            graph[r][c]=1\n",
    "            count+=1\n",
    "            q_tail.append(di)\n",
    "        elif graph[r][c]==1:\n",
    "            return count+1\n",
    "        else:\n",
    "            graph[r][c]=1\n",
    "            q_tail.append(di)\n",
    "            di_t=q_tail.popleft()\n",
    "            graph[tail_r][tail_c] = 0\n",
    "            tail_r += dy[di_t]\n",
    "            tail_c += dx[di_t]\n",
    "            count+=1\n",
    "\n",
    "dx=[0,1,0,-1]\n",
    "dy=[-1,0,1,0]\n",
    "graph[0][0]=1\n",
    "print(snake())"
   ]
  }
 ],
 "metadata": {
  "kernelspec": {
   "display_name": "Python 3",
   "language": "python",
   "name": "python3"
  },
  "language_info": {
   "codemirror_mode": {
    "name": "ipython",
    "version": 3
   },
   "file_extension": ".py",
   "mimetype": "text/x-python",
   "name": "python",
   "nbconvert_exporter": "python",
   "pygments_lexer": "ipython3",
   "version": "3.8.8"
  }
 },
 "nbformat": 4,
 "nbformat_minor": 5
}
