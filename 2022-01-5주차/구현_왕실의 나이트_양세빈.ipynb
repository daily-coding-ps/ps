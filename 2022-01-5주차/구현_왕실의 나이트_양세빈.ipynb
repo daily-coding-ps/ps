{
 "cells": [
  {
   "cell_type": "code",
   "execution_count": 1,
   "id": "406575a7",
   "metadata": {},
   "outputs": [],
   "source": [
    "dx_1=[2,2,-2,-2]\n",
    "dy_1=[1,-1,1,-1]\n",
    "\n",
    "dx_2=[1,-1,1,-1]\n",
    "dy_2=[2,2,-2,-2]"
   ]
  },
  {
   "cell_type": "code",
   "execution_count": 12,
   "id": "35df4db2",
   "metadata": {},
   "outputs": [
    {
     "name": "stdout",
     "output_type": "stream",
     "text": [
      "b2\n"
     ]
    }
   ],
   "source": [
    "loc = input()\n",
    "\n",
    "r, c= int(loc[1])-1, ord(loc[0])-97"
   ]
  },
  {
   "cell_type": "code",
   "execution_count": 13,
   "id": "7dc3ee8b",
   "metadata": {},
   "outputs": [
    {
     "name": "stdout",
     "output_type": "stream",
     "text": [
      "4\n"
     ]
    }
   ],
   "source": [
    "count=0\n",
    "for i in range(4):\n",
    "    if 0 <= r+dx_1[i] <8 and 0 <= c+dy_1[i] <8:\n",
    "        count+=1\n",
    "    if 0 <= r+dx_2[i] <8 and 0 <= c+dy_2[i] <8:\n",
    "        count+=1\n",
    "print(count)"
   ]
  },
  {
   "cell_type": "code",
   "execution_count": null,
   "id": "9c3857b6",
   "metadata": {},
   "outputs": [],
   "source": []
  }
 ],
 "metadata": {
  "kernelspec": {
   "display_name": "Python 3",
   "language": "python",
   "name": "python3"
  },
  "language_info": {
   "codemirror_mode": {
    "name": "ipython",
    "version": 3
   },
   "file_extension": ".py",
   "mimetype": "text/x-python",
   "name": "python",
   "nbconvert_exporter": "python",
   "pygments_lexer": "ipython3",
   "version": "3.8.8"
  }
 },
 "nbformat": 4,
 "nbformat_minor": 5
}
