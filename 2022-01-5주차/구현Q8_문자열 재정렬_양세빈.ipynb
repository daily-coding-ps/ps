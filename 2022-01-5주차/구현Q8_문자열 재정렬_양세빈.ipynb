{
 "cells": [
  {
   "cell_type": "code",
   "execution_count": 33,
   "id": "344306c9",
   "metadata": {},
   "outputs": [],
   "source": [
    "import re\n",
    "\n",
    "s=input()\n",
    "word = \"\".join(sorted(re.findall(\"\\D\", s)))\n",
    "num = sum(map(int,re.findall(\"\\d\", s)))"
   ]
  },
  {
   "cell_type": "code",
   "execution_count": 36,
   "id": "f2b5375f",
   "metadata": {},
   "outputs": [
    {
     "data": {
      "text/plain": [
       "'ABCKK13'"
      ]
     },
     "execution_count": 36,
     "metadata": {},
     "output_type": "execute_result"
    }
   ],
   "source": [
    "print(word+str(num))"
   ]
  },
  {
   "cell_type": "code",
   "execution_count": null,
   "id": "4adb1f08",
   "metadata": {},
   "outputs": [],
   "source": []
  }
 ],
 "metadata": {
  "kernelspec": {
   "display_name": "Python 3",
   "language": "python",
   "name": "python3"
  },
  "language_info": {
   "codemirror_mode": {
    "name": "ipython",
    "version": 3
   },
   "file_extension": ".py",
   "mimetype": "text/x-python",
   "name": "python",
   "nbconvert_exporter": "python",
   "pygments_lexer": "ipython3",
   "version": "3.8.8"
  }
 },
 "nbformat": 4,
 "nbformat_minor": 5
}
