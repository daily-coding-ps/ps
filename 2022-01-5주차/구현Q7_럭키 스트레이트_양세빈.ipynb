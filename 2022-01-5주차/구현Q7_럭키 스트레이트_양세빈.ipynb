{
 "cells": [
  {
   "cell_type": "code",
   "execution_count": 10,
   "id": "b6f6e94c",
   "metadata": {},
   "outputs": [
    {
     "name": "stdout",
     "output_type": "stream",
     "text": [
      "11\n"
     ]
    }
   ],
   "source": [
    "n = input()"
   ]
  },
  {
   "cell_type": "code",
   "execution_count": 11,
   "id": "369de7f2",
   "metadata": {},
   "outputs": [],
   "source": [
    "len_n=len(n)\n",
    "m = int(len_n/2)\n",
    "r,l=0,0\n",
    "for i in range(m):\n",
    "    r+=int(n[i])\n",
    "for i in range(m,len_n):\n",
    "    l+=int(n[i])"
   ]
  },
  {
   "cell_type": "code",
   "execution_count": 12,
   "id": "f37084a2",
   "metadata": {},
   "outputs": [
    {
     "name": "stdout",
     "output_type": "stream",
     "text": [
      "LUCKY\n"
     ]
    }
   ],
   "source": [
    "if r==l:\n",
    "    print('LUCKY')\n",
    "else:\n",
    "    print('READY')"
   ]
  }
 ],
 "metadata": {
  "kernelspec": {
   "display_name": "Python 3",
   "language": "python",
   "name": "python3"
  },
  "language_info": {
   "codemirror_mode": {
    "name": "ipython",
    "version": 3
   },
   "file_extension": ".py",
   "mimetype": "text/x-python",
   "name": "python",
   "nbconvert_exporter": "python",
   "pygments_lexer": "ipython3",
   "version": "3.8.8"
  }
 },
 "nbformat": 4,
 "nbformat_minor": 5
}
