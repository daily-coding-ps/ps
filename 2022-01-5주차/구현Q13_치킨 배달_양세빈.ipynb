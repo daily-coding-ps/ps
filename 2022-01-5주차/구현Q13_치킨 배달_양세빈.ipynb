{
 "cells": [
  {
   "cell_type": "code",
   "execution_count": 44,
   "id": "45b79de6",
   "metadata": {},
   "outputs": [
    {
     "name": "stdout",
     "output_type": "stream",
     "text": [
      "5 1\n",
      "1 2 0 2 1\n",
      "1 2 0 2 1\n",
      "1 2 0 2 1\n",
      "1 2 0 2 1\n",
      "1 2 0 2 1\n",
      "32\n"
     ]
    }
   ],
   "source": [
    "from itertools import combinations\n",
    "import sys\n",
    "\n",
    "n, m = map(int,input().split())\n",
    "\n",
    "house,chicken = [],[]\n",
    "for i in range(n):\n",
    "    lis = list(map(int,input().split()))\n",
    "    for j in range(n):\n",
    "        if lis[j]==1:\n",
    "            house.append([i,j])\n",
    "        elif lis[j]==2:\n",
    "            chicken.append([i,j])\n",
    "\n",
    "comb_chicken = list(combinations(chicken,m))\n",
    "            \n",
    "min_sum=1e9\n",
    "for chick in comb_chicken:\n",
    "    sum_h=0\n",
    "    for h in house:\n",
    "        min_val=10000\n",
    "        for c in chick:\n",
    "            min_val = min(min_val, abs(h[0]-c[0])+abs(h[1]-c[1]))\n",
    "        sum_h += min_val\n",
    "    min_sum = min(min_sum,sum_h)\n",
    "print(min_sum)"
   ]
  }
 ],
 "metadata": {
  "kernelspec": {
   "display_name": "Python 3",
   "language": "python",
   "name": "python3"
  },
  "language_info": {
   "codemirror_mode": {
    "name": "ipython",
    "version": 3
   },
   "file_extension": ".py",
   "mimetype": "text/x-python",
   "name": "python",
   "nbconvert_exporter": "python",
   "pygments_lexer": "ipython3",
   "version": "3.8.8"
  }
 },
 "nbformat": 4,
 "nbformat_minor": 5
}
