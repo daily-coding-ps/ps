{
 "cells": [
  {
   "cell_type": "code",
   "execution_count": 13,
   "id": "0fa8096d",
   "metadata": {},
   "outputs": [],
   "source": [
    "def solution(key, lock):\n",
    "    n, m=len(lock),len(key)\n",
    "    key_li= [ [] for _ in range(4) ]\n",
    "    count_key=0\n",
    "    for r in range(m):\n",
    "        for c in range(m):\n",
    "            if key[r][c]==1:\n",
    "                count_key+=1\n",
    "                for i in range(4):\n",
    "                    key_li[i].append([r,c])\n",
    "                    t = r\n",
    "                    r = c\n",
    "                    c = n-t-1\n",
    "    lock_li=[]\n",
    "    count_lock=0\n",
    "    for i in range(n):\n",
    "        for j in range(n):\n",
    "            if lock[i][j]==0:\n",
    "                count_lock+=1\n",
    "                lock_li.append([i,j])\n",
    "    if count_lock==0:\n",
    "        return True\n",
    "    \n",
    "    if count_lock > count_key:\n",
    "        return False\n",
    "    else:\n",
    "        for i in range(count_lock):\n",
    "            for j in range(4):\n",
    "                for k in range(count_key):\n",
    "                    li = []\n",
    "                    x = lock_li[i][0]-key_li[j][k][0]\n",
    "                    y = lock_li[i][1]-key_li[j][k][1]\n",
    "                    for g in range(count_key):\n",
    "                        li.append([key_li[j][g][0]+x, key_li[j][g][1]+y])\n",
    "                    t=True\n",
    "                    for lo in lock_li:\n",
    "                        if lo not in li:\n",
    "                            t=False\n",
    "                            break\n",
    "                        li.remove(lo)\n",
    "                    for trash in li:\n",
    "                        if 0 <= trash[0] < n and 0 <= trash[1] < n:\n",
    "                            t=False\n",
    "                    if t:\n",
    "                        return True\n",
    "        if t==False:\n",
    "            return False"
   ]
  }
 ],
 "metadata": {
  "kernelspec": {
   "display_name": "Python 3",
   "language": "python",
   "name": "python3"
  },
  "language_info": {
   "codemirror_mode": {
    "name": "ipython",
    "version": 3
   },
   "file_extension": ".py",
   "mimetype": "text/x-python",
   "name": "python",
   "nbconvert_exporter": "python",
   "pygments_lexer": "ipython3",
   "version": "3.8.8"
  }
 },
 "nbformat": 4,
 "nbformat_minor": 5
}
