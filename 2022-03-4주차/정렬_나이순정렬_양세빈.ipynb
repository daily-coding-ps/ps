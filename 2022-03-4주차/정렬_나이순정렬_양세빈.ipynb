{
 "cells": [
  {
   "cell_type": "code",
   "execution_count": 24,
   "id": "3b00517b",
   "metadata": {},
   "outputs": [
    {
     "name": "stdout",
     "output_type": "stream",
     "text": [
      "3\n",
      "21 Junkyu\n",
      "21 Dohyun\n",
      "20 Sunyoung\n"
     ]
    }
   ],
   "source": [
    "n=int(input())\n",
    "li=[]\n",
    "for i in range(n):\n",
    "    a,b=input().split()\n",
    "    li.append([int(a),b])"
   ]
  },
  {
   "cell_type": "code",
   "execution_count": 25,
   "id": "89a72b99",
   "metadata": {},
   "outputs": [],
   "source": [
    "li.sort(key = lambda x:int(x[0]))"
   ]
  },
  {
   "cell_type": "code",
   "execution_count": 32,
   "id": "90a5beee",
   "metadata": {},
   "outputs": [
    {
     "name": "stdout",
     "output_type": "stream",
     "text": [
      "20 Sunyoung\n",
      "21 Junkyu\n",
      "21 Dohyun\n"
     ]
    }
   ],
   "source": [
    "for i in li:\n",
    "    print(*i) "
   ]
  },
  {
   "cell_type": "code",
   "execution_count": null,
   "id": "877b67a5",
   "metadata": {},
   "outputs": [],
   "source": []
  }
 ],
 "metadata": {
  "kernelspec": {
   "display_name": "Python 3",
   "language": "python",
   "name": "python3"
  },
  "language_info": {
   "codemirror_mode": {
    "name": "ipython",
    "version": 3
   },
   "file_extension": ".py",
   "mimetype": "text/x-python",
   "name": "python",
   "nbconvert_exporter": "python",
   "pygments_lexer": "ipython3",
   "version": "3.8.8"
  }
 },
 "nbformat": 4,
 "nbformat_minor": 5
}
