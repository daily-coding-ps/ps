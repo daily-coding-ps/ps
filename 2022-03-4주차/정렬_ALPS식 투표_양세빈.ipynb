{
 "cells": [
  {
   "cell_type": "code",
   "execution_count": 42,
   "id": "d6a97ab3",
   "metadata": {},
   "outputs": [
    {
     "name": "stdout",
     "output_type": "stream",
     "text": [
      "206278\n",
      "5\n",
      "D 44687\n",
      "A 68188\n",
      "C 7008\n",
      "B 48377\n",
      "G 9665\n"
     ]
    }
   ],
   "source": [
    "from collections import deque\n",
    "\n",
    "all_num = int(input())\n",
    "per = all_num*0.05\n",
    "n=int(input())\n",
    "f = []\n",
    "answer=[]\n",
    "for i in range(n):\n",
    "    a,b = input().split()\n",
    "    if int(b) >=per:\n",
    "        answer.append([a,0])\n",
    "        li=deque()\n",
    "        for j in range(1,15):\n",
    "            li.append(int(b)/j)\n",
    "        f.append(li)"
   ]
  },
  {
   "cell_type": "code",
   "execution_count": 43,
   "id": "8bd39283",
   "metadata": {},
   "outputs": [],
   "source": [
    "pop_list=[]\n",
    "for i in f:\n",
    "    pop_list.append(i.popleft())\n",
    "for i in range(14):\n",
    "    m_idx = pop_list.index(max(pop_list))\n",
    "    answer[m_idx][1]+=1\n",
    "    pop_list[m_idx]=f[m_idx].popleft()"
   ]
  },
  {
   "cell_type": "code",
   "execution_count": 46,
   "id": "fb99fc03",
   "metadata": {},
   "outputs": [],
   "source": [
    "answer.sort()"
   ]
  },
  {
   "cell_type": "code",
   "execution_count": 47,
   "id": "a6a210f5",
   "metadata": {},
   "outputs": [
    {
     "name": "stdout",
     "output_type": "stream",
     "text": [
      "A 6\n",
      "B 4\n",
      "D 4\n"
     ]
    }
   ],
   "source": [
    "for i in answer:\n",
    "    print(i[0],i[1])"
   ]
  },
  {
   "cell_type": "code",
   "execution_count": null,
   "id": "ec1f1054",
   "metadata": {},
   "outputs": [],
   "source": []
  }
 ],
 "metadata": {
  "kernelspec": {
   "display_name": "Python 3",
   "language": "python",
   "name": "python3"
  },
  "language_info": {
   "codemirror_mode": {
    "name": "ipython",
    "version": 3
   },
   "file_extension": ".py",
   "mimetype": "text/x-python",
   "name": "python",
   "nbconvert_exporter": "python",
   "pygments_lexer": "ipython3",
   "version": "3.8.8"
  }
 },
 "nbformat": 4,
 "nbformat_minor": 5
}
