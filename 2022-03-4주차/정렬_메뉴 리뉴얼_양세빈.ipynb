{
 "cells": [
  {
   "cell_type": "code",
   "execution_count": null,
   "id": "0a84a9fe",
   "metadata": {},
   "outputs": [],
   "source": [
    "from itertools import combinations\n",
    "\n",
    "def solution(orders, course):\n",
    "    dic = dict()\n",
    "    answer =[]\n",
    "    for i in course:\n",
    "        dic[i] = dict()\n",
    "        for order in orders:\n",
    "            com_li = list(combinations(order,i))\n",
    "            for j in com_li:\n",
    "                w = \"\".join(sorted(j))\n",
    "                if w in dic[i]:\n",
    "                    dic[i][w]+=1\n",
    "                else:\n",
    "                    dic[i][w]=1\n",
    "        answer +=[k for k,v in dic[i].items() if max(dic[i].values())>=2 and max(dic[i].values()) == v]\n",
    "    return sorted(answer)"
   ]
  }
 ],
 "metadata": {
  "kernelspec": {
   "display_name": "Python 3",
   "language": "python",
   "name": "python3"
  },
  "language_info": {
   "codemirror_mode": {
    "name": "ipython",
    "version": 3
   },
   "file_extension": ".py",
   "mimetype": "text/x-python",
   "name": "python",
   "nbconvert_exporter": "python",
   "pygments_lexer": "ipython3",
   "version": "3.8.8"
  }
 },
 "nbformat": 4,
 "nbformat_minor": 5
}
