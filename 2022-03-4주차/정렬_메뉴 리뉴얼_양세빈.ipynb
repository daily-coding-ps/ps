{
 "cells": [
  {
   "cell_type": "code",
   "execution_count": null,
   "id": "1b805cd7",
   "metadata": {},
   "outputs": [],
   "source": [
    "# from itertools import combinations\n",
    "\n",
    "# def solution(orders, course):\n",
    "#     li = set()\n",
    "#     answer = []\n",
    "#     dict_count = dict()\n",
    "#     for i in orders:\n",
    "#         li.update(i)\n",
    "#     for i in course:\n",
    "#         dict_count[i] = dict()\n",
    "#         com_li = list(combinations(li,i))\n",
    "#         for j in com_li:\n",
    "#             count = 0\n",
    "#             j_li = list(j)\n",
    "#             j_li.sort()\n",
    "#             idx=\"\".join(j_li)\n",
    "#             dict_count[i][idx] = 0\n",
    "#             for order in orders:\n",
    "#                 for k in range(i):\n",
    "#                     t=True\n",
    "#                     if j[k] not in order:\n",
    "#                         t=False\n",
    "#                         break\n",
    "#                 if t:\n",
    "#                     dict_count[i][idx] += 1\n",
    "#                     count+=1\n",
    "\n",
    "#         answer +=[k for k,v in dict_count[i].items() if max(dict_count[i].values())>=2 and max(dict_count[i].values()) == v]\n",
    "#     answer.sort()\n",
    "#     return answer"
   ]
  },
  {
   "cell_type": "code",
   "execution_count": null,
   "id": "f3b26529",
   "metadata": {},
   "outputs": [],
   "source": [
    "## 시간 초과 \n",
    "# 테스트 17 〉\t통과 (2417.43ms, 12.5MB)\n",
    "\n",
    "## 개선\n",
    "# 테스트 17 〉\t통과 (3.58ms, 10.3MB)"
   ]
  },
  {
   "cell_type": "code",
   "execution_count": null,
   "id": "c857b620",
   "metadata": {},
   "outputs": [],
   "source": [
    "from itertools import combinations\n",
    "\n",
    "def solution(orders, course):\n",
    "    dic = dict()\n",
    "    answer =[]\n",
    "    for i in course:\n",
    "        dic[i] = dict()\n",
    "        for order in orders:\n",
    "            com_li = list(combinations(order,i))\n",
    "            for j in com_li:\n",
    "                w = \"\".join(sorted(j))\n",
    "                if w in dic[i]:\n",
    "                    dic[i][w]+=1\n",
    "                else:\n",
    "                    dic[i][w]=1\n",
    "        answer +=[k for k,v in dic[i].items() if max(dic[i].values())>=2 and max(dic[i].values()) == v]\n",
    "    return sorted(answer)"
   ]
  }
 ],
 "metadata": {
  "kernelspec": {
   "display_name": "Python 3",
   "language": "python",
   "name": "python3"
  },
  "language_info": {
   "codemirror_mode": {
    "name": "ipython",
    "version": 3
   },
   "file_extension": ".py",
   "mimetype": "text/x-python",
   "name": "python",
   "nbconvert_exporter": "python",
   "pygments_lexer": "ipython3",
   "version": "3.8.8"
  }
 },
 "nbformat": 4,
 "nbformat_minor": 5
}
