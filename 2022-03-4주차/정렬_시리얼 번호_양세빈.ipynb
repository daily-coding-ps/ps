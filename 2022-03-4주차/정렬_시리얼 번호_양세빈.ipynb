{
 "cells": [
  {
   "cell_type": "code",
   "execution_count": 48,
   "id": "c28964da",
   "metadata": {},
   "outputs": [
    {
     "name": "stdout",
     "output_type": "stream",
     "text": [
      "2\n",
      "Z19\n",
      "Z20\n"
     ]
    }
   ],
   "source": [
    "li=[]\n",
    "for i in range(int(input())):\n",
    "    word=input()\n",
    "    sum_val = 0\n",
    "    for w in word:\n",
    "        if ord(w)<58:\n",
    "            sum_val+=int(w)\n",
    "    li.append([word,len(word),sum_val])"
   ]
  },
  {
   "cell_type": "code",
   "execution_count": 49,
   "id": "5f7eb553",
   "metadata": {},
   "outputs": [
    {
     "name": "stdout",
     "output_type": "stream",
     "text": [
      "Z20\n",
      "Z19\n"
     ]
    }
   ],
   "source": [
    "li.sort(key = lambda x:(x[1],x[2],x[0]))\n",
    "for i in li:\n",
    "    print(i[0])"
   ]
  },
  {
   "cell_type": "code",
   "execution_count": null,
   "id": "9c495bac",
   "metadata": {},
   "outputs": [],
   "source": []
  }
 ],
 "metadata": {
  "kernelspec": {
   "display_name": "Python 3",
   "language": "python",
   "name": "python3"
  },
  "language_info": {
   "codemirror_mode": {
    "name": "ipython",
    "version": 3
   },
   "file_extension": ".py",
   "mimetype": "text/x-python",
   "name": "python",
   "nbconvert_exporter": "python",
   "pygments_lexer": "ipython3",
   "version": "3.8.8"
  }
 },
 "nbformat": 4,
 "nbformat_minor": 5
}
