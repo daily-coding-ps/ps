{
 "cells": [
  {
   "cell_type": "code",
   "execution_count": null,
   "id": "f576b464",
   "metadata": {},
   "outputs": [],
   "source": [
    "8 2\n",
    "12 7 19 20 17 14 9 10"
   ]
  },
  {
   "cell_type": "code",
   "execution_count": 4,
   "id": "9976670d",
   "metadata": {},
   "outputs": [
    {
     "name": "stdout",
     "output_type": "stream",
     "text": [
      "8 2\n",
      "12 7 19 20 17 14 9 10\n"
     ]
    }
   ],
   "source": [
    "n,k = map(int,input().split())\n",
    "li = list(map(int,input().split()))"
   ]
  },
  {
   "cell_type": "code",
   "execution_count": 5,
   "id": "0632f87d",
   "metadata": {},
   "outputs": [],
   "source": [
    "s,e = 0,100000*20  \n",
    "\n",
    "while s<=e:\n",
    "    m=(s+e)//2 # 받을 수 있는 최소점수\n",
    "    group_sum=0\n",
    "    c=0\n",
    "    for i in li:   # 해당 최소점수로 문제에서 제시한 그룹의 개수를 만들수 있는지 검증\n",
    "        group_sum +=i\n",
    "        if group_sum>=m:   # 최소점수가 되면 그룹 하나가 만들어짐\n",
    "            c+=1\n",
    "            group_sum=0\n",
    "    if c >= k:    # 만약 최소점수로 그룹이 많이 많들어 진다면 점수를 높임\n",
    "        s=m+1\n",
    "    else:\n",
    "        e=m-1"
   ]
  },
  {
   "cell_type": "code",
   "execution_count": 6,
   "id": "fa0702e8",
   "metadata": {},
   "outputs": [
    {
     "data": {
      "text/plain": [
       "51"
      ]
     },
     "execution_count": 6,
     "metadata": {},
     "output_type": "execute_result"
    }
   ],
   "source": [
    "print(e)"
   ]
  },
  {
   "cell_type": "code",
   "execution_count": null,
   "id": "92e3d4c4",
   "metadata": {},
   "outputs": [],
   "source": []
  }
 ],
 "metadata": {
  "kernelspec": {
   "display_name": "Python 3",
   "language": "python",
   "name": "python3"
  },
  "language_info": {
   "codemirror_mode": {
    "name": "ipython",
    "version": 3
   },
   "file_extension": ".py",
   "mimetype": "text/x-python",
   "name": "python",
   "nbconvert_exporter": "python",
   "pygments_lexer": "ipython3",
   "version": "3.8.8"
  }
 },
 "nbformat": 4,
 "nbformat_minor": 5
}
