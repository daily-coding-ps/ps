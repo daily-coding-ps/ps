{
 "cells": [
  {
   "cell_type": "code",
   "execution_count": null,
   "id": "9a31ac89",
   "metadata": {},
   "outputs": [],
   "source": [
    "n=6\n",
    "times=[7, 10]"
   ]
  },
  {
   "cell_type": "code",
   "execution_count": 156,
   "id": "1b414f35",
   "metadata": {},
   "outputs": [],
   "source": [
    "s,e= 1, max(times) * n\n",
    "# e= 1e9 이거는 왜 안될까유\n",
    "\n",
    "while s <= e :\n",
    "    m = (s+e)//2     # 심사위원에게 제공되는 시간 \n",
    "    people=0        # 심사위원이 심사한 인원\n",
    "    for i in times:\n",
    "        people += m//i      # 시간내에 심사위원이 검사할 수 있는 사람의 수\n",
    "    \n",
    "    if people >= n: # 만약 심사를 할 수 있는 인원이 입국심사를 기다리는 인원보다 많다면 제공되는 시간을 줄인다.\n",
    "        e=m-1\n",
    "    else:\n",
    "        s=m+1"
   ]
  },
  {
   "cell_type": "code",
   "execution_count": 159,
   "id": "eab818a8",
   "metadata": {
    "scrolled": true
   },
   "outputs": [
    {
     "data": {
      "text/plain": [
       "7.0"
      ]
     },
     "execution_count": 159,
     "metadata": {},
     "output_type": "execute_result"
    }
   ],
   "source": [
    "print(s)"
   ]
  },
  {
   "cell_type": "code",
   "execution_count": null,
   "id": "2345f812",
   "metadata": {},
   "outputs": [],
   "source": []
  },
  {
   "cell_type": "code",
   "execution_count": null,
   "id": "636d9daf",
   "metadata": {},
   "outputs": [],
   "source": [
    "def solution(n, times):\n",
    "    s,e= 1,max(times) * n\n",
    "\n",
    "    while s <= e :\n",
    "        m = (s+e)//2\n",
    "        people=0 \n",
    "        for i in times:\n",
    "            people += (m//i)\n",
    "\n",
    "        if people >= n:\n",
    "            e=m-1\n",
    "        else:\n",
    "            s=m+1\n",
    "    return s"
   ]
  }
 ],
 "metadata": {
  "kernelspec": {
   "display_name": "Python 3",
   "language": "python",
   "name": "python3"
  },
  "language_info": {
   "codemirror_mode": {
    "name": "ipython",
    "version": 3
   },
   "file_extension": ".py",
   "mimetype": "text/x-python",
   "name": "python",
   "nbconvert_exporter": "python",
   "pygments_lexer": "ipython3",
   "version": "3.8.8"
  }
 },
 "nbformat": 4,
 "nbformat_minor": 5
}
