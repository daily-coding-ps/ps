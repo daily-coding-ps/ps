{
 "cells": [
  {
   "cell_type": "code",
   "execution_count": null,
   "id": "55de2744",
   "metadata": {},
   "outputs": [],
   "source": [
    "# 무한루프도는 반례...^^\n",
    "2 11\n",
    "10 10"
   ]
  },
  {
   "cell_type": "code",
   "execution_count": 11,
   "id": "c56cbc37",
   "metadata": {},
   "outputs": [
    {
     "name": "stdout",
     "output_type": "stream",
     "text": [
      "5 20\n",
      "4 42 40 26 46\n",
      "36\n"
     ]
    }
   ],
   "source": [
    "a,h= map(int,input().split())\n",
    "tree=list(map(int,input().split()))\n",
    "\n",
    "s,e = 0, 1000000000\n",
    "\n",
    "while s<=e:\n",
    "    m = (s+e)//2\n",
    "    cut_tree=0\n",
    "    for i in tree:\n",
    "        if h < cut_tree:\n",
    "            break\n",
    "        if i-m > 0:\n",
    "            cut_tree += i-m\n",
    "    if h > cut_tree:\n",
    "        e=m-1\n",
    "    else:\n",
    "        s=m+1\n",
    "print(e)"
   ]
  }
 ],
 "metadata": {
  "kernelspec": {
   "display_name": "Python 3",
   "language": "python",
   "name": "python3"
  },
  "language_info": {
   "codemirror_mode": {
    "name": "ipython",
    "version": 3
   },
   "file_extension": ".py",
   "mimetype": "text/x-python",
   "name": "python",
   "nbconvert_exporter": "python",
   "pygments_lexer": "ipython3",
   "version": "3.8.8"
  }
 },
 "nbformat": 4,
 "nbformat_minor": 5
}
