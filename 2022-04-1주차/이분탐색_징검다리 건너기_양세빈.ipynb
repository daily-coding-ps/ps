{
 "cells": [
  {
   "cell_type": "code",
   "execution_count": 27,
   "id": "719b9ca5",
   "metadata": {},
   "outputs": [],
   "source": [
    "stones=[2, 4, 5, 3, 2, 1, 4, 2, 5, 1]\n",
    "k=3"
   ]
  },
  {
   "cell_type": "code",
   "execution_count": 30,
   "id": "a2e03fb7",
   "metadata": {
    "scrolled": true
   },
   "outputs": [],
   "source": [
    "s,e=0,max(stones)\n",
    "\n",
    "while s<=e:\n",
    "    m = (s+e)//2\n",
    "    c=0\n",
    "    for i in stones:\n",
    "        if i < m:\n",
    "            c+=1   # 이 사이에 디딤돌이 몇개있는지 카운트\n",
    "        else:\n",
    "            c=0   # 디딤돌 카운트한거 초기화\n",
    "        if c ==k:  # 디딤돌의 개수가 k보다 크면 해당 m만큼의 사람은 수용할 수 없음\n",
    "            break\n",
    "    if c >= k:\n",
    "        e = m-1\n",
    "    else:\n",
    "        s = m+1"
   ]
  },
  {
   "cell_type": "code",
   "execution_count": 31,
   "id": "ab9bdfe7",
   "metadata": {},
   "outputs": [
    {
     "data": {
      "text/plain": [
       "3.0"
      ]
     },
     "execution_count": 31,
     "metadata": {},
     "output_type": "execute_result"
    }
   ],
   "source": [
    "e"
   ]
  },
  {
   "cell_type": "code",
   "execution_count": null,
   "id": "a60c1dd8",
   "metadata": {},
   "outputs": [],
   "source": []
  },
  {
   "cell_type": "code",
   "execution_count": null,
   "id": "b9a7b836",
   "metadata": {},
   "outputs": [],
   "source": [
    "def solution(stones, k):\n",
    "    s,e=0,max(stones)\n",
    "\n",
    "    while s<=e:\n",
    "        m= (s+e)//2\n",
    "        c=0\n",
    "        for i in stones:\n",
    "            if i < m:\n",
    "                c+=1\n",
    "            else:\n",
    "                c=0 \n",
    "            if c >= k: \n",
    "                break\n",
    "        if c >= k:\n",
    "            e = m-1\n",
    "        else:\n",
    "            s= m+1\n",
    "    return e"
   ]
  }
 ],
 "metadata": {
  "kernelspec": {
   "display_name": "Python 3",
   "language": "python",
   "name": "python3"
  },
  "language_info": {
   "codemirror_mode": {
    "name": "ipython",
    "version": 3
   },
   "file_extension": ".py",
   "mimetype": "text/x-python",
   "name": "python",
   "nbconvert_exporter": "python",
   "pygments_lexer": "ipython3",
   "version": "3.8.8"
  }
 },
 "nbformat": 4,
 "nbformat_minor": 5
}
