{
 "cells": [
  {
   "cell_type": "code",
   "execution_count": 399,
   "id": "a56716e7",
   "metadata": {},
   "outputs": [],
   "source": [
    "rocks +=[0,distance]\n",
    "rocks.sort()\n",
    "s,e=0,distance\n",
    "\n",
    "while s <=e:\n",
    "    m= (s+e)//2\n",
    "    c=0\n",
    "    prev = 0\n",
    "    for i in range(1,len(rocks)):\n",
    "        if rocks[i]-prev < m:\n",
    "            c+=1\n",
    "        else:\n",
    "            prev=rocks[i]\n",
    "    if c > n:\n",
    "        e = m-1\n",
    "    else:\n",
    "        s = m+1"
   ]
  },
  {
   "cell_type": "code",
   "execution_count": 400,
   "id": "57a3aae1",
   "metadata": {},
   "outputs": [
    {
     "data": {
      "text/plain": [
       "5"
      ]
     },
     "execution_count": 400,
     "metadata": {},
     "output_type": "execute_result"
    }
   ],
   "source": [
    "print(e)"
   ]
  },
  {
   "cell_type": "code",
   "execution_count": null,
   "id": "063fe68f",
   "metadata": {},
   "outputs": [],
   "source": []
  },
  {
   "cell_type": "code",
   "execution_count": null,
   "id": "903e2fec",
   "metadata": {},
   "outputs": [],
   "source": [
    "def solution(distance, rocks, n):\n",
    "    rocks +=[0,distance]\n",
    "    rocks.sort()\n",
    "    s,e=0,distance\n",
    "\n",
    "    while s <=e:\n",
    "        m= (s+e)//2\n",
    "        c=0\n",
    "        prev = 0\n",
    "        for i in range(1,len(rocks)):\n",
    "            if rocks[i]-prev < m:\n",
    "                c+=1\n",
    "            else:\n",
    "                prev=rocks[i]\n",
    "        if c > n:\n",
    "            e = m-1\n",
    "        else:\n",
    "            s = m+1\n",
    "    return e"
   ]
  }
 ],
 "metadata": {
  "kernelspec": {
   "display_name": "Python 3",
   "language": "python",
   "name": "python3"
  },
  "language_info": {
   "codemirror_mode": {
    "name": "ipython",
    "version": 3
   },
   "file_extension": ".py",
   "mimetype": "text/x-python",
   "name": "python",
   "nbconvert_exporter": "python",
   "pygments_lexer": "ipython3",
   "version": "3.8.8"
  }
 },
 "nbformat": 4,
 "nbformat_minor": 5
}
