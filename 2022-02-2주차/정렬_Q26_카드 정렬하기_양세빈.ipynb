{
 "cells": [
  {
   "cell_type": "code",
   "execution_count": 32,
   "id": "4274696f",
   "metadata": {
    "scrolled": true
   },
   "outputs": [
    {
     "name": "stdout",
     "output_type": "stream",
     "text": [
      "3\n",
      "10\n",
      "20\n",
      "40\n"
     ]
    }
   ],
   "source": [
    "import heapq\n",
    "n=int(input())\n",
    "hq=[]\n",
    "for _ in range(n):\n",
    "    heapq.heappush(hq,int(input()))"
   ]
  },
  {
   "cell_type": "code",
   "execution_count": 33,
   "id": "dc02b6f1",
   "metadata": {},
   "outputs": [
    {
     "name": "stdout",
     "output_type": "stream",
     "text": [
      "100\n"
     ]
    }
   ],
   "source": [
    "if n==1:\n",
    "    print(0)\n",
    "elif n==2:\n",
    "    print(sum(hq))\n",
    "else:\n",
    "    sum_val=0\n",
    "    while len(hq)!=1:\n",
    "        h1 = heapq.heappop(hq)\n",
    "        h2 = heapq.heappop(hq)\n",
    "        \n",
    "        sum_val += (h1 + h2)\n",
    "        heapq.heappush(hq,h1 + h2)\n",
    "    print(sum_val)"
   ]
  },
  {
   "cell_type": "code",
   "execution_count": null,
   "id": "4c399a5b",
   "metadata": {},
   "outputs": [],
   "source": []
  }
 ],
 "metadata": {
  "kernelspec": {
   "display_name": "Python 3",
   "language": "python",
   "name": "python3"
  },
  "language_info": {
   "codemirror_mode": {
    "name": "ipython",
    "version": 3
   },
   "file_extension": ".py",
   "mimetype": "text/x-python",
   "name": "python",
   "nbconvert_exporter": "python",
   "pygments_lexer": "ipython3",
   "version": "3.8.8"
  }
 },
 "nbformat": 4,
 "nbformat_minor": 5
}
