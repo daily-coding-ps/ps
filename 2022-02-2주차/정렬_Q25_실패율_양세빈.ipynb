{
 "cells": [
  {
   "cell_type": "code",
   "execution_count": 115,
   "id": "cca4d6ca",
   "metadata": {},
   "outputs": [],
   "source": [
    "def solution(N, stages):\n",
    "    di={}\n",
    "    for i in range(1,N+1):\n",
    "        di[i]=0\n",
    "    for i in stages:\n",
    "        if i > N:\n",
    "            continue\n",
    "        di[i]+=1\n",
    "    st_sum = 0\n",
    "    for i in range(1,N+1):\n",
    "        user = len(stages)-st_sum\n",
    "        st_sum+=di[i]    \n",
    "        if user==0:\n",
    "            di[i]=0\n",
    "            break\n",
    "        di[i] /= user\n",
    "    return [i[0] for i in sorted(di.items(), key=lambda x: -x[1])]"
   ]
  }
 ],
 "metadata": {
  "kernelspec": {
   "display_name": "Python 3",
   "language": "python",
   "name": "python3"
  },
  "language_info": {
   "codemirror_mode": {
    "name": "ipython",
    "version": 3
   },
   "file_extension": ".py",
   "mimetype": "text/x-python",
   "name": "python",
   "nbconvert_exporter": "python",
   "pygments_lexer": "ipython3",
   "version": "3.8.8"
  }
 },
 "nbformat": 4,
 "nbformat_minor": 5
}
