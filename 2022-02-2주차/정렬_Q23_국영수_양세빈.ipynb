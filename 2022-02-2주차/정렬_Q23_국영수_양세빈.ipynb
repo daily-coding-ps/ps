{
 "cells": [
  {
   "cell_type": "code",
   "execution_count": null,
   "id": "7a438765",
   "metadata": {},
   "outputs": [],
   "source": [
    "import sys\n",
    "n = int(sys.stdin.readline())\n",
    "li=[]\n",
    "for i in range(n):\n",
    "    li.append(list(sys.stdin.readline().split()))\n",
    "\n",
    "li=sorted(li, key=lambda x : (-int(x[1]), int(x[2]), -int(x[3]),x[0]))\n",
    "\n",
    "for i in li:\n",
    "    print(i[0])"
   ]
  }
 ],
 "metadata": {
  "kernelspec": {
   "display_name": "Python 3",
   "language": "python",
   "name": "python3"
  },
  "language_info": {
   "codemirror_mode": {
    "name": "ipython",
    "version": 3
   },
   "file_extension": ".py",
   "mimetype": "text/x-python",
   "name": "python",
   "nbconvert_exporter": "python",
   "pygments_lexer": "ipython3",
   "version": "3.8.8"
  }
 },
 "nbformat": 4,
 "nbformat_minor": 5
}
