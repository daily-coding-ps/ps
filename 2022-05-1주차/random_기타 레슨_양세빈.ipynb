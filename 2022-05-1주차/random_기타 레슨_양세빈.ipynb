{
 "cells": [
  {
   "cell_type": "code",
   "execution_count": 65,
   "id": "8ba61c14",
   "metadata": {
    "scrolled": true
   },
   "outputs": [
    {
     "name": "stdout",
     "output_type": "stream",
     "text": [
      "7 7\n"
     ]
    }
   ],
   "source": [
    "n,M=map(int,input().split())"
   ]
  },
  {
   "cell_type": "code",
   "execution_count": 66,
   "id": "534ece80",
   "metadata": {},
   "outputs": [
    {
     "name": "stdout",
     "output_type": "stream",
     "text": [
      "5 9 6 8 7 7 5\n"
     ]
    }
   ],
   "source": [
    "li=list(map(int,input().split()))"
   ]
  },
  {
   "cell_type": "code",
   "execution_count": 72,
   "id": "79c82db0",
   "metadata": {},
   "outputs": [
    {
     "name": "stdout",
     "output_type": "stream",
     "text": [
      "6 26 47\n",
      "3\n",
      "6 15 25\n",
      "4\n",
      "6 10 14\n",
      "7\n",
      "6 7 9\n",
      "9\n",
      "8 8 9\n",
      "9\n",
      "9 9 9\n",
      "7\n"
     ]
    }
   ],
   "source": [
    "sum_li=sum(li)\n",
    "s,e=sum_li//M,sum_li\n",
    "while s <= e:\n",
    "    m=(s+e)//2\n",
    "    sum_val,count = 0,0\n",
    "\n",
    "    for i in li:\n",
    "        if i>m:\n",
    "            count=M+1\n",
    "            break\n",
    "        \n",
    "        if sum_val+i>m:\n",
    "            count+=1\n",
    "            sum_val=0\n",
    "        sum_val+=i\n",
    "    if sum_val:\n",
    "        count+=1\n",
    "\n",
    "    if count <= M:\n",
    "        e = m-1\n",
    "        answer = m\n",
    "    else:\n",
    "        s = m+1"
   ]
  },
  {
   "cell_type": "code",
   "execution_count": 73,
   "id": "9efd791f",
   "metadata": {
    "scrolled": false
   },
   "outputs": [
    {
     "data": {
      "text/plain": [
       "9"
      ]
     },
     "execution_count": 73,
     "metadata": {},
     "output_type": "execute_result"
    }
   ],
   "source": [
    "answer"
   ]
  }
 ],
 "metadata": {
  "kernelspec": {
   "display_name": "Python 3",
   "language": "python",
   "name": "python3"
  },
  "language_info": {
   "codemirror_mode": {
    "name": "ipython",
    "version": 3
   },
   "file_extension": ".py",
   "mimetype": "text/x-python",
   "name": "python",
   "nbconvert_exporter": "python",
   "pygments_lexer": "ipython3",
   "version": "3.8.8"
  }
 },
 "nbformat": 4,
 "nbformat_minor": 5
}
