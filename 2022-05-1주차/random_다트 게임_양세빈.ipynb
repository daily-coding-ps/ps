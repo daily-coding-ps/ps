{
 "cells": [
  {
   "cell_type": "code",
   "execution_count": 10,
   "id": "08ae3aaf",
   "metadata": {},
   "outputs": [],
   "source": [
    "dartResult=\"1S2D*3T\""
   ]
  },
  {
   "cell_type": "code",
   "execution_count": 11,
   "id": "cadaff17",
   "metadata": {},
   "outputs": [],
   "source": [
    "fun=[]\n",
    "n=\"\"\n",
    "for i in dartResult:\n",
    "    if 47 < ord(i) < 58:\n",
    "        n += i \n",
    "    elif i == \"S\":\n",
    "        fun.append(int(n)**1)\n",
    "        n = \"\"\n",
    "    elif i == \"D\":\n",
    "        fun.append(int(n)**2)\n",
    "        n = \"\"\n",
    "    elif i == \"T\":\n",
    "        fun.append(int(n)**3)\n",
    "        n = \"\"\n",
    "    elif i == \"#\":\n",
    "        fun[-1] *= -1\n",
    "    elif i == \"*\":\n",
    "        if len(fun) == 1:\n",
    "            fun[-1] = fun[-1] * 2\n",
    "        else:\n",
    "            fun[-1],fun[-2] = fun[-1]*2, fun[-2]*2"
   ]
  },
  {
   "cell_type": "code",
   "execution_count": 12,
   "id": "00fabf20",
   "metadata": {},
   "outputs": [
    {
     "data": {
      "text/plain": [
       "37"
      ]
     },
     "execution_count": 12,
     "metadata": {},
     "output_type": "execute_result"
    }
   ],
   "source": [
    "sum(fun)"
   ]
  },
  {
   "cell_type": "code",
   "execution_count": null,
   "id": "f412425d",
   "metadata": {},
   "outputs": [],
   "source": []
  },
  {
   "cell_type": "code",
   "execution_count": null,
   "id": "334a4cb5",
   "metadata": {},
   "outputs": [],
   "source": []
  },
  {
   "cell_type": "code",
   "execution_count": null,
   "id": "e51fd658",
   "metadata": {},
   "outputs": [],
   "source": [
    "def solution(dartResult):\n",
    "    fun=[]\n",
    "    n=\"\"\n",
    "    for i in dartResult:\n",
    "        if 47 < ord(i) < 58:\n",
    "            n += i \n",
    "        elif i == \"S\":\n",
    "            fun.append(int(n)**1)\n",
    "            n = \"\"\n",
    "        elif i == \"D\":\n",
    "            fun.append(int(n)**2)\n",
    "            n = \"\"\n",
    "        elif i == \"T\":\n",
    "            fun.append(int(n)**3)\n",
    "            n = \"\"\n",
    "        elif i == \"#\":\n",
    "            fun[-1] *= -1\n",
    "        elif i == \"*\":\n",
    "            if len(fun) == 1:\n",
    "                fun[-1] = fun[-1] * 2\n",
    "            else:\n",
    "                fun[-1],fun[-2] = fun[-1]*2, fun[-2]*2\n",
    "    return sum(fun)"
   ]
  }
 ],
 "metadata": {
  "kernelspec": {
   "display_name": "Python 3",
   "language": "python",
   "name": "python3"
  },
  "language_info": {
   "codemirror_mode": {
    "name": "ipython",
    "version": 3
   },
   "file_extension": ".py",
   "mimetype": "text/x-python",
   "name": "python",
   "nbconvert_exporter": "python",
   "pygments_lexer": "ipython3",
   "version": "3.8.8"
  }
 },
 "nbformat": 4,
 "nbformat_minor": 5
}
