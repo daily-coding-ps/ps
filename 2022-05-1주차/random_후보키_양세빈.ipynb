{
 "cells": [
  {
   "cell_type": "code",
   "execution_count": 72,
   "id": "cc7f952e",
   "metadata": {},
   "outputs": [],
   "source": [
    "relation=[['a', 'aa'], ['aa', 'a'], ['a', 'a']]"
   ]
  },
  {
   "cell_type": "code",
   "execution_count": null,
   "id": "da578414",
   "metadata": {},
   "outputs": [],
   "source": [
    "from itertools import combinations\n",
    "def solution(relation):\n",
    "    li=[ [] for _ in range(len(relation[0])) ]\n",
    "\n",
    "    for i in relation:\n",
    "        for j in range(len(i)):\n",
    "            li[j].append(i[j])\n",
    "\n",
    "    count=0\n",
    "    all_val=[]\n",
    "    for n in range(len(relation[0])+1):\n",
    "        idx_li=[ i for i in range(len(li))]\n",
    "        li_com = list(combinations(idx_li,n))\n",
    "        for i in li_com:\n",
    "            idx_com=[ \"\" for _ in range(len(relation))]\n",
    "            for j in i:\n",
    "                for idx in range(len(li[j])):\n",
    "                    idx_com[idx]+=(\"+\"+str(li[j][idx]))\n",
    "            if len(idx_com)==len(set(idx_com)):\n",
    "                count+=1\n",
    "                all_val.append(list(i))\n",
    "\n",
    "    for i in range(len(all_val)):\n",
    "        for j in range(i+1,len(all_val)):\n",
    "            if len(all_val[i])==0 or len(all_val[j])==0:\n",
    "                continue\n",
    "            t=True\n",
    "            for a in all_val[i]:\n",
    "                if a not in all_val[j]:\n",
    "                    t=False\n",
    "                    break\n",
    "            if t:\n",
    "                count-=1\n",
    "                all_val[j]=[]\n",
    "    return count"
   ]
  },
  {
   "cell_type": "code",
   "execution_count": null,
   "id": "4722a105",
   "metadata": {},
   "outputs": [],
   "source": []
  }
 ],
 "metadata": {
  "kernelspec": {
   "display_name": "Python 3",
   "language": "python",
   "name": "python3"
  },
  "language_info": {
   "codemirror_mode": {
    "name": "ipython",
    "version": 3
   },
   "file_extension": ".py",
   "mimetype": "text/x-python",
   "name": "python",
   "nbconvert_exporter": "python",
   "pygments_lexer": "ipython3",
   "version": "3.8.8"
  }
 },
 "nbformat": 4,
 "nbformat_minor": 5
}
