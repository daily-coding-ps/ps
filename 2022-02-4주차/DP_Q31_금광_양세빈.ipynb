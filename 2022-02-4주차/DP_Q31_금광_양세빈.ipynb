{
 "cells": [
  {
   "cell_type": "code",
   "execution_count": 49,
   "id": "b26a39e4",
   "metadata": {},
   "outputs": [
    {
     "name": "stdout",
     "output_type": "stream",
     "text": [
      "1\n",
      "3 4\n",
      "1 3 3 2 2 1 4 1 0 6 4 7\n",
      "19\n"
     ]
    }
   ],
   "source": [
    "dy=[-1,0,1]\n",
    "\n",
    "n=int(input())\n",
    "\n",
    "for _ in range(n):\n",
    "    n,m = map(int,input().split())\n",
    "    li= list(map(int,input().split()))\n",
    "    li = [li[i:i+m] for i in range(0, n*m, m)]\n",
    "    max_li = [ [0]*m for _ in range(n)]\n",
    "\n",
    "    for i in range(n):\n",
    "        max_li[i][0] = li[i][0]\n",
    "    \n",
    "    for c in range(1,m):\n",
    "        for r in range(n):\n",
    "            before_val = 0\n",
    "            for i in range(3):\n",
    "                ny= r+dy[i]\n",
    "                if 0 <= ny < n:\n",
    "                    before_val = max(max_li[ny][c-1],before_val)\n",
    "                    \n",
    "            max_li[r][c] = before_val+li[r][c]\n",
    "    val=0\n",
    "    for v in range(n):\n",
    "        val= max(val,max_li[v][m-1])\n",
    "    print(val)"
   ]
  }
 ],
 "metadata": {
  "kernelspec": {
   "display_name": "Python 3",
   "language": "python",
   "name": "python3"
  },
  "language_info": {
   "codemirror_mode": {
    "name": "ipython",
    "version": 3
   },
   "file_extension": ".py",
   "mimetype": "text/x-python",
   "name": "python",
   "nbconvert_exporter": "python",
   "pygments_lexer": "ipython3",
   "version": "3.8.8"
  }
 },
 "nbformat": 4,
 "nbformat_minor": 5
}
