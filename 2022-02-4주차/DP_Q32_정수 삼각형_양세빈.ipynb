{
 "cells": [
  {
   "cell_type": "code",
   "execution_count": null,
   "id": "685617eb",
   "metadata": {},
   "outputs": [],
   "source": [
    "import sys\n",
    "input=sys.stdin.readline"
   ]
  },
  {
   "cell_type": "code",
   "execution_count": 11,
   "id": "d4dcdec5",
   "metadata": {},
   "outputs": [
    {
     "name": "stdout",
     "output_type": "stream",
     "text": [
      "5\n"
     ]
    }
   ],
   "source": [
    "n = int(input())"
   ]
  },
  {
   "cell_type": "code",
   "execution_count": 18,
   "id": "fb70ebce",
   "metadata": {},
   "outputs": [],
   "source": [
    "max_li = [ [0]*i for i in range(1,n+1) ]"
   ]
  },
  {
   "cell_type": "code",
   "execution_count": 5,
   "id": "ca386b11",
   "metadata": {},
   "outputs": [
    {
     "name": "stdout",
     "output_type": "stream",
     "text": [
      "7\n",
      "3 8\n",
      "8 1 0\n",
      "2 7 4 4\n",
      "4 5 2 6 5\n"
     ]
    }
   ],
   "source": [
    "li=[]\n",
    "for _ in range(n):\n",
    "    li.append(list(map(int,input().split())))"
   ]
  },
  {
   "cell_type": "code",
   "execution_count": 19,
   "id": "8d2c8ce0",
   "metadata": {},
   "outputs": [],
   "source": [
    "max_li[0][0]=li[0][0]\n",
    "for i in range(1,n):\n",
    "    for j in range(i):\n",
    "        max_li[i][j] = max(max_li[i][j],max_li[i-1][j]+li[i][j])\n",
    "        max_li[i][j+1] = max(max_li[i][j+1],max_li[i-1][j]+li[i][j+1])"
   ]
  },
  {
   "cell_type": "code",
   "execution_count": 20,
   "id": "0bc604e1",
   "metadata": {},
   "outputs": [
    {
     "name": "stdout",
     "output_type": "stream",
     "text": [
      "30\n"
     ]
    }
   ],
   "source": [
    "print(max(max_li[n-1]))"
   ]
  },
  {
   "cell_type": "code",
   "execution_count": null,
   "id": "e96ff0a7",
   "metadata": {},
   "outputs": [],
   "source": []
  }
 ],
 "metadata": {
  "kernelspec": {
   "display_name": "Python 3",
   "language": "python",
   "name": "python3"
  },
  "language_info": {
   "codemirror_mode": {
    "name": "ipython",
    "version": 3
   },
   "file_extension": ".py",
   "mimetype": "text/x-python",
   "name": "python",
   "nbconvert_exporter": "python",
   "pygments_lexer": "ipython3",
   "version": "3.8.8"
  }
 },
 "nbformat": 4,
 "nbformat_minor": 5
}
