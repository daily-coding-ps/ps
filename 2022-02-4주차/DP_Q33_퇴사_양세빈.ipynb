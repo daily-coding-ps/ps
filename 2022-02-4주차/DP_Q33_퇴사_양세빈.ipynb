{
 "cells": [
  {
   "cell_type": "code",
   "execution_count": 65,
   "id": "ebbcd6b6",
   "metadata": {
    "scrolled": true
   },
   "outputs": [
    {
     "name": "stdout",
     "output_type": "stream",
     "text": [
      "3\n",
      "1 5\n",
      "3 1\n",
      "1 1\n"
     ]
    }
   ],
   "source": [
    "n=int(input())\n",
    "li=[]\n",
    "for i in range(n):\n",
    "    li.append(list(map(int,input().split())))\n"
   ]
  },
  {
   "cell_type": "code",
   "execution_count": 68,
   "id": "ac1e9f34",
   "metadata": {},
   "outputs": [
    {
     "name": "stdout",
     "output_type": "stream",
     "text": [
      "6\n"
     ]
    }
   ],
   "source": [
    "max_li = [0]*(n+1)\n",
    "for i in range(n):        \n",
    "    day = li[n-1-i][0]\n",
    "    if (i+1) >= day:\n",
    "        max_li[n-1-i] = li[n-1-i][1]+max_li[n-1-i + day]\n",
    "    if max(max_li) > max_li[n-1-i]:\n",
    "        max_li[n-1-i] = max(max_li)\n",
    "print(max(max_li))"
   ]
  }
 ],
 "metadata": {
  "kernelspec": {
   "display_name": "Python 3",
   "language": "python",
   "name": "python3"
  },
  "language_info": {
   "codemirror_mode": {
    "name": "ipython",
    "version": 3
   },
   "file_extension": ".py",
   "mimetype": "text/x-python",
   "name": "python",
   "nbconvert_exporter": "python",
   "pygments_lexer": "ipython3",
   "version": "3.8.8"
  }
 },
 "nbformat": 4,
 "nbformat_minor": 5
}
