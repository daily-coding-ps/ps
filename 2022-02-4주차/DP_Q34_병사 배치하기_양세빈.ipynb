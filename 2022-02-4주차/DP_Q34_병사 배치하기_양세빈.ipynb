{
 "cells": [
  {
   "cell_type": "code",
   "execution_count": 57,
   "id": "ab4d3604",
   "metadata": {
    "scrolled": true
   },
   "outputs": [
    {
     "name": "stdout",
     "output_type": "stream",
     "text": [
      "7\n",
      "15 11 4 8 5 2 4\n"
     ]
    }
   ],
   "source": [
    "n=int(input())\n",
    "li=list(map(int,input().split()))"
   ]
  },
  {
   "cell_type": "code",
   "execution_count": 59,
   "id": "0198e865",
   "metadata": {},
   "outputs": [],
   "source": [
    "count_li=[0]*n\n",
    "\n",
    "for i in range(1,n):\n",
    "    for j in range(i):\n",
    "        if li[i] < li[j]:\n",
    "            count_li[i] = max(count_li[i], count_li[j]+1)"
   ]
  },
  {
   "cell_type": "code",
   "execution_count": 60,
   "id": "fe468df1",
   "metadata": {},
   "outputs": [
    {
     "name": "stdout",
     "output_type": "stream",
     "text": [
      "2\n"
     ]
    }
   ],
   "source": [
    "print(n-max(count_li)-1)"
   ]
  },
  {
   "cell_type": "code",
   "execution_count": null,
   "id": "61bfbea9",
   "metadata": {},
   "outputs": [],
   "source": []
  }
 ],
 "metadata": {
  "kernelspec": {
   "display_name": "Python 3",
   "language": "python",
   "name": "python3"
  },
  "language_info": {
   "codemirror_mode": {
    "name": "ipython",
    "version": 3
   },
   "file_extension": ".py",
   "mimetype": "text/x-python",
   "name": "python",
   "nbconvert_exporter": "python",
   "pygments_lexer": "ipython3",
   "version": "3.8.8"
  }
 },
 "nbformat": 4,
 "nbformat_minor": 5
}
