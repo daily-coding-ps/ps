{
 "cells": [
  {
   "cell_type": "code",
   "execution_count": 66,
   "id": "535a5858",
   "metadata": {},
   "outputs": [],
   "source": [
    "m=\"ABCDEFG\"\n",
    "musicinfos=[\"12:00,12:14,HELLO,CDEFGAB\", \"13:00,13:05,WORLD,ABCDEF\"]"
   ]
  },
  {
   "cell_type": "code",
   "execution_count": 132,
   "id": "6950841d",
   "metadata": {},
   "outputs": [],
   "source": [
    "m=\"CC#BCC#BCC#BCC#B\"\n",
    "musicinfos=[\"03:00,03:30,FOO,CC#B\", \"04:00,04:08,BAR,CC#BCC#BCC#B\"]"
   ]
  },
  {
   "cell_type": "code",
   "execution_count": 143,
   "id": "7fb054ad",
   "metadata": {},
   "outputs": [],
   "source": [
    "m=\"CB\"\n",
    "musicinfos=[\"03:00,03:30,FOO,CC#B\", \"04:00,04:08,BAR,CC#BCC#BCC#B\"]"
   ]
  },
  {
   "cell_type": "code",
   "execution_count": 144,
   "id": "429adc39",
   "metadata": {},
   "outputs": [],
   "source": [
    "def solution(m, musicinfos):\n",
    "    m=m.replace(\"C#\",\"c\").replace(\"F#\",\"f\").replace(\"D#\",\"d\").replace(\"G#\",\"g\").replace(\"A#\",\"a\")\n",
    "    \n",
    "    li=[]\n",
    "    for i in musicinfos:\n",
    "        t=i.split(',')\n",
    "        time=(int(t[1][:2])-int(t[0][:2]))*60+(int(t[1][3:5])-int(t[0][3:5]))\n",
    "        t[3]=t[3].replace(\"C#\",\"c\").replace(\"F#\",\"f\").replace(\"D#\",\"d\").replace(\"G#\",\"g\").replace(\"A#\",\"a\")\n",
    "        melody = (t[3]*((time//len(t[3]))+1))[:time]\n",
    "\n",
    "        li.append([time,t[2],melody])\n",
    "\n",
    "    answer_li=[]\n",
    "    for i in range(len(li)):\n",
    "        if m in li[i][2]:\n",
    "            answer_li.append(i)\n",
    "\n",
    "    answer,m_t=0,0\n",
    "    for i in answer_li:\n",
    "        if li[i][0]>m_t:\n",
    "            m_t=li[i][0]\n",
    "            answer=li[i][1]\n",
    "    if answer==0:\n",
    "        return \"(None)\"\n",
    "    else:\n",
    "        return answer"
   ]
  },
  {
   "cell_type": "code",
   "execution_count": null,
   "id": "419eafb1",
   "metadata": {},
   "outputs": [],
   "source": []
  },
  {
   "cell_type": "code",
   "execution_count": null,
   "id": "1505ba2f",
   "metadata": {},
   "outputs": [],
   "source": []
  }
 ],
 "metadata": {
  "kernelspec": {
   "display_name": "Python 3",
   "language": "python",
   "name": "python3"
  },
  "language_info": {
   "codemirror_mode": {
    "name": "ipython",
    "version": 3
   },
   "file_extension": ".py",
   "mimetype": "text/x-python",
   "name": "python",
   "nbconvert_exporter": "python",
   "pygments_lexer": "ipython3",
   "version": "3.8.8"
  }
 },
 "nbformat": 4,
 "nbformat_minor": 5
}
