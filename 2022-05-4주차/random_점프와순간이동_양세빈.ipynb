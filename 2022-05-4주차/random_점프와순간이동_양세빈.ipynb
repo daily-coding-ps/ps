{
 "cells": [
  {
   "cell_type": "code",
   "execution_count": 14,
   "id": "73c52c13",
   "metadata": {},
   "outputs": [],
   "source": [
    "n=5000"
   ]
  },
  {
   "cell_type": "code",
   "execution_count": 15,
   "id": "16c74af6",
   "metadata": {},
   "outputs": [],
   "source": [
    "count=0\n",
    "while n:\n",
    "    n = if n%2==0 is n/2 else n-1\n",
    "        n/=2\n",
    "    else:\n",
    "        n-=1\n",
    "        count+=1"
   ]
  },
  {
   "cell_type": "code",
   "execution_count": 16,
   "id": "a6a5a908",
   "metadata": {},
   "outputs": [
    {
     "data": {
      "text/plain": [
       "5"
      ]
     },
     "execution_count": 16,
     "metadata": {},
     "output_type": "execute_result"
    }
   ],
   "source": [
    "count"
   ]
  }
 ],
 "metadata": {
  "kernelspec": {
   "display_name": "Python 3",
   "language": "python",
   "name": "python3"
  },
  "language_info": {
   "codemirror_mode": {
    "name": "ipython",
    "version": 3
   },
   "file_extension": ".py",
   "mimetype": "text/x-python",
   "name": "python",
   "nbconvert_exporter": "python",
   "pygments_lexer": "ipython3",
   "version": "3.8.8"
  }
 },
 "nbformat": 4,
 "nbformat_minor": 5
}
