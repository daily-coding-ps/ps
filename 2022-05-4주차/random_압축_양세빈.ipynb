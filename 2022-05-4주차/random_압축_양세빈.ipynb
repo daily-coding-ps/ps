{
 "cells": [
  {
   "cell_type": "code",
   "execution_count": 66,
   "id": "b0889a4f",
   "metadata": {},
   "outputs": [],
   "source": [
    "dic={}\n",
    "for i in range(1,27):\n",
    "    dic[chr(i+64)]=i\n",
    "msg=\"ABABABABABABABAB\"\n",
    "i=0\n",
    "answer=[]\n",
    "while 1:\n",
    "    if i >=len(msg):\n",
    "        break\n",
    "    for j in range(len(msg),i,-1):\n",
    "        if msg[i:j] in dic:\n",
    "            answer.append(dic[msg[i:j]])\n",
    "            dic[msg[i:j+1]] = len(dic)+1\n",
    "            i=j-1\n",
    "    i+=1"
   ]
  },
  {
   "cell_type": "code",
   "execution_count": 67,
   "id": "819c58c6",
   "metadata": {},
   "outputs": [
    {
     "data": {
      "text/plain": [
       "[1, 2, 27, 29, 28, 31, 30]"
      ]
     },
     "execution_count": 67,
     "metadata": {},
     "output_type": "execute_result"
    }
   ],
   "source": [
    "answer"
   ]
  },
  {
   "cell_type": "code",
   "execution_count": null,
   "id": "a44ccea4",
   "metadata": {},
   "outputs": [],
   "source": []
  },
  {
   "cell_type": "code",
   "execution_count": null,
   "id": "1169c3a3",
   "metadata": {},
   "outputs": [],
   "source": []
  },
  {
   "cell_type": "code",
   "execution_count": null,
   "id": "2620775d",
   "metadata": {},
   "outputs": [],
   "source": [
    "# 제출 코드\n",
    "def solution(msg):\n",
    "    dic={}\n",
    "    for i in range(1,27):\n",
    "        dic[chr(i+64)]=i\n",
    "    i=0\n",
    "    answer=[]\n",
    "    while 1:\n",
    "        if i >=len(msg):\n",
    "            break\n",
    "        for j in range(len(msg),i,-1):\n",
    "            if msg[i:j] in dic:\n",
    "                answer.append(dic[msg[i:j]])\n",
    "                dic[msg[i:j+1]] = len(dic)+1\n",
    "                i=j-1\n",
    "        i+=1\n",
    "    return answer"
   ]
  }
 ],
 "metadata": {
  "kernelspec": {
   "display_name": "Python 3",
   "language": "python",
   "name": "python3"
  },
  "language_info": {
   "codemirror_mode": {
    "name": "ipython",
    "version": 3
   },
   "file_extension": ".py",
   "mimetype": "text/x-python",
   "name": "python",
   "nbconvert_exporter": "python",
   "pygments_lexer": "ipython3",
   "version": "3.8.8"
  }
 },
 "nbformat": 4,
 "nbformat_minor": 5
}
