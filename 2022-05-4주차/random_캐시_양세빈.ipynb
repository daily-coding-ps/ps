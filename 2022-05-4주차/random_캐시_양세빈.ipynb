{
 "cells": [
  {
   "cell_type": "code",
   "execution_count": 69,
   "id": "4945c38d",
   "metadata": {},
   "outputs": [],
   "source": [
    "cacheSize=3\n",
    "cities=[\"Jeju\", \"Pangyo\", \"Seoul\", \"NewYork\", \"LA\", \"Jeju\", \"Pangyo\", \"Seoul\", \"NewYork\", \"LA\"]"
   ]
  },
  {
   "cell_type": "code",
   "execution_count": 70,
   "id": "31a78f05",
   "metadata": {},
   "outputs": [],
   "source": [
    "dic,c = {},0\n",
    "for i in range(len(cities)):\n",
    "    cities[i]=cities[i].upper()\n",
    "    if cities[i] in dic:\n",
    "        c+=1\n",
    "    else:\n",
    "        c+=5\n",
    "    dic[cities[i]]=i\n",
    "    if len(dic)>cacheSize:\n",
    "        del dic[min(dic, key=dic.get)]"
   ]
  },
  {
   "cell_type": "code",
   "execution_count": 71,
   "id": "dbc300ff",
   "metadata": {},
   "outputs": [
    {
     "data": {
      "text/plain": [
       "50"
      ]
     },
     "execution_count": 71,
     "metadata": {},
     "output_type": "execute_result"
    }
   ],
   "source": [
    "c"
   ]
  },
  {
   "cell_type": "code",
   "execution_count": null,
   "id": "3a1198d7",
   "metadata": {},
   "outputs": [],
   "source": []
  },
  {
   "cell_type": "code",
   "execution_count": null,
   "id": "f2efc98c",
   "metadata": {},
   "outputs": [],
   "source": [
    "def solution(cacheSize, cities):\n",
    "    c=0\n",
    "    dic={}\n",
    "    for i in range(len(cities)):\n",
    "        cities[i]=cities[i].upper()\n",
    "        if cities[i] in dic:\n",
    "            c+=1\n",
    "        else:\n",
    "            c+=5\n",
    "        dic[cities[i]]=i\n",
    "        if len(dic)>cacheSize:\n",
    "            del dic[min(dic, key=dic.get)]\n",
    "    return c"
   ]
  }
 ],
 "metadata": {
  "kernelspec": {
   "display_name": "Python 3",
   "language": "python",
   "name": "python3"
  },
  "language_info": {
   "codemirror_mode": {
    "name": "ipython",
    "version": 3
   },
   "file_extension": ".py",
   "mimetype": "text/x-python",
   "name": "python",
   "nbconvert_exporter": "python",
   "pygments_lexer": "ipython3",
   "version": "3.8.8"
  }
 },
 "nbformat": 4,
 "nbformat_minor": 5
}
